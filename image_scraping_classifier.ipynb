{
  "cells": [
    {
      "cell_type": "markdown",
      "metadata": {
        "id": "view-in-github",
        "colab_type": "text"
      },
      "source": [
        "<a href=\"https://colab.research.google.com/github/zzhining/deeplearing_basic/blob/main/image_scraping_classifier.ipynb\" target=\"_parent\"><img src=\"https://colab.research.google.com/assets/colab-badge.svg\" alt=\"Open In Colab\"/></a>"
      ]
    },
    {
      "cell_type": "markdown",
      "metadata": {
        "id": "Wt26HboBJg1b"
      },
      "source": [
        "# 강원도 관광지 사진 수집 및 전처리\n"
      ]
    },
    {
      "cell_type": "code",
      "execution_count": null,
      "metadata": {
        "collapsed": true,
        "id": "D9RSBf_jgVmM",
        "colab": {
          "base_uri": "https://localhost:8080/"
        },
        "outputId": "16c3fced-f35e-4382-df69-98abfc4dec60"
      },
      "outputs": [
        {
          "output_type": "stream",
          "name": "stdout",
          "text": [
            "Looking in indexes: https://pypi.org/simple, https://us-python.pkg.dev/colab-wheels/public/simple/\n",
            "Collecting selenium\n",
            "  Downloading selenium-4.2.0-py3-none-any.whl (983 kB)\n",
            "\u001b[K     |████████████████████████████████| 983 kB 7.0 MB/s \n",
            "\u001b[?25hCollecting trio~=0.17\n",
            "  Downloading trio-0.21.0-py3-none-any.whl (358 kB)\n",
            "\u001b[K     |████████████████████████████████| 358 kB 67.6 MB/s \n",
            "\u001b[?25hCollecting trio-websocket~=0.9\n",
            "  Downloading trio_websocket-0.9.2-py3-none-any.whl (16 kB)\n",
            "Collecting urllib3[secure,socks]~=1.26\n",
            "  Downloading urllib3-1.26.9-py2.py3-none-any.whl (138 kB)\n",
            "\u001b[K     |████████████████████████████████| 138 kB 66.5 MB/s \n",
            "\u001b[?25hCollecting outcome\n",
            "  Downloading outcome-1.2.0-py2.py3-none-any.whl (9.7 kB)\n",
            "Collecting sniffio\n",
            "  Downloading sniffio-1.2.0-py3-none-any.whl (10 kB)\n",
            "Requirement already satisfied: idna in /usr/local/lib/python3.7/dist-packages (from trio~=0.17->selenium) (2.10)\n",
            "Requirement already satisfied: attrs>=19.2.0 in /usr/local/lib/python3.7/dist-packages (from trio~=0.17->selenium) (21.4.0)\n",
            "Requirement already satisfied: sortedcontainers in /usr/local/lib/python3.7/dist-packages (from trio~=0.17->selenium) (2.4.0)\n",
            "Collecting async-generator>=1.9\n",
            "  Downloading async_generator-1.10-py3-none-any.whl (18 kB)\n",
            "Collecting wsproto>=0.14\n",
            "  Downloading wsproto-1.1.0-py3-none-any.whl (24 kB)\n",
            "Collecting pyOpenSSL>=0.14\n",
            "  Downloading pyOpenSSL-22.0.0-py2.py3-none-any.whl (55 kB)\n",
            "\u001b[K     |████████████████████████████████| 55 kB 4.4 MB/s \n",
            "\u001b[?25hRequirement already satisfied: certifi in /usr/local/lib/python3.7/dist-packages (from urllib3[secure,socks]~=1.26->selenium) (2022.6.15)\n",
            "Collecting cryptography>=1.3.4\n",
            "  Downloading cryptography-37.0.2-cp36-abi3-manylinux_2_24_x86_64.whl (4.0 MB)\n",
            "\u001b[K     |████████████████████████████████| 4.0 MB 52.9 MB/s \n",
            "\u001b[?25hRequirement already satisfied: PySocks!=1.5.7,<2.0,>=1.5.6 in /usr/local/lib/python3.7/dist-packages (from urllib3[secure,socks]~=1.26->selenium) (1.7.1)\n",
            "Requirement already satisfied: cffi>=1.12 in /usr/local/lib/python3.7/dist-packages (from cryptography>=1.3.4->urllib3[secure,socks]~=1.26->selenium) (1.15.0)\n",
            "Requirement already satisfied: pycparser in /usr/local/lib/python3.7/dist-packages (from cffi>=1.12->cryptography>=1.3.4->urllib3[secure,socks]~=1.26->selenium) (2.21)\n",
            "Collecting h11<1,>=0.9.0\n",
            "  Downloading h11-0.13.0-py3-none-any.whl (58 kB)\n",
            "\u001b[K     |████████████████████████████████| 58 kB 7.0 MB/s \n",
            "\u001b[?25hRequirement already satisfied: typing-extensions in /usr/local/lib/python3.7/dist-packages (from h11<1,>=0.9.0->wsproto>=0.14->trio-websocket~=0.9->selenium) (4.1.1)\n",
            "Installing collected packages: sniffio, outcome, h11, cryptography, async-generator, wsproto, urllib3, trio, pyOpenSSL, trio-websocket, selenium\n",
            "  Attempting uninstall: urllib3\n",
            "    Found existing installation: urllib3 1.24.3\n",
            "    Uninstalling urllib3-1.24.3:\n",
            "      Successfully uninstalled urllib3-1.24.3\n",
            "\u001b[31mERROR: pip's dependency resolver does not currently take into account all the packages that are installed. This behaviour is the source of the following dependency conflicts.\n",
            "requests 2.23.0 requires urllib3!=1.25.0,!=1.25.1,<1.26,>=1.21.1, but you have urllib3 1.26.9 which is incompatible.\n",
            "datascience 0.10.6 requires folium==0.2.1, but you have folium 0.8.3 which is incompatible.\u001b[0m\n",
            "Successfully installed async-generator-1.10 cryptography-37.0.2 h11-0.13.0 outcome-1.2.0 pyOpenSSL-22.0.0 selenium-4.2.0 sniffio-1.2.0 trio-0.21.0 trio-websocket-0.9.2 urllib3-1.26.9 wsproto-1.1.0\n",
            "Hit:1 https://developer.download.nvidia.com/compute/cuda/repos/ubuntu1804/x86_64  InRelease\n",
            "Get:2 https://cloud.r-project.org/bin/linux/ubuntu bionic-cran40/ InRelease [3,626 B]\n",
            "Get:3 http://security.ubuntu.com/ubuntu bionic-security InRelease [88.7 kB]\n",
            "Ign:4 https://developer.download.nvidia.com/compute/machine-learning/repos/ubuntu1804/x86_64  InRelease\n",
            "Hit:5 https://developer.download.nvidia.com/compute/machine-learning/repos/ubuntu1804/x86_64  Release\n",
            "Hit:6 http://archive.ubuntu.com/ubuntu bionic InRelease\n",
            "Hit:7 http://ppa.launchpad.net/c2d4u.team/c2d4u4.0+/ubuntu bionic InRelease\n",
            "Get:8 http://archive.ubuntu.com/ubuntu bionic-updates InRelease [88.7 kB]\n",
            "Hit:9 http://ppa.launchpad.net/cran/libgit2/ubuntu bionic InRelease\n",
            "Get:10 http://archive.ubuntu.com/ubuntu bionic-backports InRelease [74.6 kB]\n",
            "Hit:11 http://ppa.launchpad.net/deadsnakes/ppa/ubuntu bionic InRelease\n",
            "Hit:13 http://ppa.launchpad.net/graphics-drivers/ppa/ubuntu bionic InRelease\n",
            "Get:14 http://security.ubuntu.com/ubuntu bionic-security/restricted amd64 Packages [1,006 kB]\n",
            "Get:15 http://security.ubuntu.com/ubuntu bionic-security/universe amd64 Packages [1,521 kB]\n",
            "Get:16 http://security.ubuntu.com/ubuntu bionic-security/multiverse amd64 Packages [22.8 kB]\n",
            "Get:17 http://security.ubuntu.com/ubuntu bionic-security/main amd64 Packages [2,861 kB]\n",
            "Get:18 http://archive.ubuntu.com/ubuntu bionic-updates/restricted amd64 Packages [1,040 kB]\n",
            "Get:19 http://archive.ubuntu.com/ubuntu bionic-updates/universe amd64 Packages [2,297 kB]\n",
            "Get:20 http://archive.ubuntu.com/ubuntu bionic-updates/main amd64 Packages [3,294 kB]\n",
            "Get:21 http://archive.ubuntu.com/ubuntu bionic-updates/multiverse amd64 Packages [29.8 kB]\n",
            "Get:22 http://archive.ubuntu.com/ubuntu bionic-backports/main amd64 Packages [12.2 kB]\n",
            "Fetched 12.3 MB in 6s (2,200 kB/s)\n",
            "Reading package lists... Done\n",
            "Reading package lists... Done\n",
            "Building dependency tree       \n",
            "Reading state information... Done\n",
            "The following package was automatically installed and is no longer required:\n",
            "  libnvidia-common-460\n",
            "Use 'apt autoremove' to remove it.\n",
            "The following additional packages will be installed:\n",
            "  chromium-browser chromium-browser-l10n chromium-codecs-ffmpeg-extra\n",
            "Suggested packages:\n",
            "  webaccounts-chromium-extension unity-chromium-extension\n",
            "The following NEW packages will be installed:\n",
            "  chromium-browser chromium-browser-l10n chromium-chromedriver\n",
            "  chromium-codecs-ffmpeg-extra\n",
            "0 upgraded, 4 newly installed, 0 to remove and 49 not upgraded.\n",
            "Need to get 89.8 MB of archives.\n",
            "After this operation, 302 MB of additional disk space will be used.\n",
            "Get:1 http://archive.ubuntu.com/ubuntu bionic-updates/universe amd64 chromium-codecs-ffmpeg-extra amd64 101.0.4951.64-0ubuntu0.18.04.1 [1,142 kB]\n",
            "Get:2 http://archive.ubuntu.com/ubuntu bionic-updates/universe amd64 chromium-browser amd64 101.0.4951.64-0ubuntu0.18.04.1 [78.5 MB]\n",
            "Get:3 http://archive.ubuntu.com/ubuntu bionic-updates/universe amd64 chromium-browser-l10n all 101.0.4951.64-0ubuntu0.18.04.1 [4,980 kB]\n",
            "Get:4 http://archive.ubuntu.com/ubuntu bionic-updates/universe amd64 chromium-chromedriver amd64 101.0.4951.64-0ubuntu0.18.04.1 [5,153 kB]\n",
            "Fetched 89.8 MB in 6s (16.2 MB/s)\n",
            "Selecting previously unselected package chromium-codecs-ffmpeg-extra.\n",
            "(Reading database ... 155639 files and directories currently installed.)\n",
            "Preparing to unpack .../chromium-codecs-ffmpeg-extra_101.0.4951.64-0ubuntu0.18.04.1_amd64.deb ...\n",
            "Unpacking chromium-codecs-ffmpeg-extra (101.0.4951.64-0ubuntu0.18.04.1) ...\n",
            "Selecting previously unselected package chromium-browser.\n",
            "Preparing to unpack .../chromium-browser_101.0.4951.64-0ubuntu0.18.04.1_amd64.deb ...\n",
            "Unpacking chromium-browser (101.0.4951.64-0ubuntu0.18.04.1) ...\n",
            "Selecting previously unselected package chromium-browser-l10n.\n",
            "Preparing to unpack .../chromium-browser-l10n_101.0.4951.64-0ubuntu0.18.04.1_all.deb ...\n",
            "Unpacking chromium-browser-l10n (101.0.4951.64-0ubuntu0.18.04.1) ...\n",
            "Selecting previously unselected package chromium-chromedriver.\n",
            "Preparing to unpack .../chromium-chromedriver_101.0.4951.64-0ubuntu0.18.04.1_amd64.deb ...\n",
            "Unpacking chromium-chromedriver (101.0.4951.64-0ubuntu0.18.04.1) ...\n",
            "Setting up chromium-codecs-ffmpeg-extra (101.0.4951.64-0ubuntu0.18.04.1) ...\n",
            "Setting up chromium-browser (101.0.4951.64-0ubuntu0.18.04.1) ...\n",
            "update-alternatives: using /usr/bin/chromium-browser to provide /usr/bin/x-www-browser (x-www-browser) in auto mode\n",
            "update-alternatives: using /usr/bin/chromium-browser to provide /usr/bin/gnome-www-browser (gnome-www-browser) in auto mode\n",
            "Setting up chromium-chromedriver (101.0.4951.64-0ubuntu0.18.04.1) ...\n",
            "Setting up chromium-browser-l10n (101.0.4951.64-0ubuntu0.18.04.1) ...\n",
            "Processing triggers for man-db (2.8.3-2ubuntu0.1) ...\n",
            "Processing triggers for hicolor-icon-theme (0.17-2) ...\n",
            "Processing triggers for mime-support (3.60ubuntu1) ...\n",
            "Processing triggers for libc-bin (2.27-3ubuntu1.3) ...\n",
            "/sbin/ldconfig.real: /usr/local/lib/python3.7/dist-packages/ideep4py/lib/libmkldnn.so.0 is not a symbolic link\n",
            "\n",
            "cp: '/usr/lib/chromium-browser/chromedriver' and '/usr/bin/chromedriver' are the same file\n"
          ]
        }
      ],
      "source": [
        "# 코드1\n",
        "!pip install selenium\n",
        "!apt-get update\n",
        "!apt install chromium-chromedriver\n",
        "!cp /usr/lib/chromium-browser/chromedriver /usr/bin"
      ]
    },
    {
      "cell_type": "code",
      "execution_count": null,
      "metadata": {
        "id": "WYxIodzqiFBn",
        "colab": {
          "base_uri": "https://localhost:8080/"
        },
        "outputId": "13523199-3ccc-4ba2-a505-03a09aae54fa"
      },
      "outputs": [
        {
          "output_type": "stream",
          "name": "stdout",
          "text": [
            "Mounted at /content/drive\n"
          ]
        }
      ],
      "source": [
        "# 코드2\n",
        "from google.colab import drive\n",
        "drive.mount('/content/drive')"
      ]
    },
    {
      "cell_type": "code",
      "execution_count": null,
      "metadata": {
        "id": "HKYGuMbjPor6"
      },
      "outputs": [],
      "source": [
        "# 코드3\n",
        "import os\n",
        "os.chdir(\"/content/drive/My Drive\")"
      ]
    },
    {
      "cell_type": "code",
      "execution_count": null,
      "metadata": {
        "id": "RGmIDkIhgThq",
        "colab": {
          "base_uri": "https://localhost:8080/"
        },
        "outputId": "0aca8085-d18b-46f0-a927-28d3ee6f7ed7"
      },
      "outputs": [
        {
          "output_type": "stream",
          "name": "stderr",
          "text": [
            "/usr/local/lib/python3.7/dist-packages/requests/__init__.py:91: RequestsDependencyWarning: urllib3 (1.26.9) or chardet (3.0.4) doesn't match a supported version!\n",
            "  RequestsDependencyWarning)\n"
          ]
        }
      ],
      "source": [
        "# 코드4\n",
        "from bs4 import BeautifulSoup\n",
        "import requests\n",
        "from selenium import webdriver\n",
        "from selenium.webdriver.common.keys import Keys\n",
        "from urllib.request import (urlopen, urlparse, urlunparse, urlretrieve)\n",
        "import time\n",
        "import pathlib\n",
        "import PIL\n",
        "import numpy as np\n",
        "import pandas as pd\n",
        "import matplotlib.pyplot as plt\n",
        "import tensorflow as tf\n",
        "from tensorflow import keras\n",
        "from tensorflow.keras import layers\n",
        "from tensorflow.keras.models import Sequential"
      ]
    },
    {
      "cell_type": "code",
      "execution_count": null,
      "metadata": {
        "id": "NWuogg-L9dpK"
      },
      "outputs": [],
      "source": [
        "# 코드5\n",
        "def selenium_scroll_option(driver):\n",
        "    SCROLL_PAUSE_SEC = 3\n",
        "  \n",
        "    # 현재 스크롤 높이\n",
        "    last_height = driver.execute_script(\"return document.body.scrollHeight\")\n",
        "    \n",
        "    while True:\n",
        "        # 끝까지 스크롤 다운\n",
        "        driver.execute_script(\"window.scrollTo(0, document.body.scrollHeight);\")\n",
        "\n",
        "        # 대기\n",
        "        time.sleep(SCROLL_PAUSE_SEC)\n",
        "\n",
        "        # 스크롤 다운 후 스크롤 높이\n",
        "        new_height = driver.execute_script(\"return document.body.scrollHeight\")\n",
        "    \n",
        "        if new_height == last_height:\n",
        "            break\n",
        "        last_height = new_height"
      ]
    },
    {
      "cell_type": "code",
      "execution_count": null,
      "metadata": {
        "id": "GqBYpboILEwS"
      },
      "outputs": [],
      "source": [
        "# 코드6\n",
        "def download_image(image_name):\n",
        "    options = webdriver.ChromeOptions()\n",
        "    options.add_argument('--headless')     \n",
        "    options.add_argument('--no-sandbox')\n",
        "    options.add_argument('--disable-dev-shm-usage')\n",
        "    driver = webdriver.Chrome('chromedriver', options=options)\n",
        "    driver.get('http://www.google.co.kr/imghp?hl=ko')\n",
        "\n",
        "    browser = driver.find_element_by_name(\"q\")\n",
        "    browser.send_keys(image_name)\n",
        "    browser.send_keys(Keys.RETURN)\n",
        "\n",
        "    selenium_scroll_option(driver)\n",
        "\n",
        "    print('{} 이미지 다운로드 시작'.format(image_name))\n",
        "    # 이미지 url 추가\n",
        "    images = driver.find_elements_by_css_selector(\".rg_i.Q4LuWd\") \n",
        "    images_url = []\n",
        "    for i in images:    \n",
        "        if i.get_attribute('src')!= None :\n",
        "                images_url.append(i.get_attribute('src'))\n",
        "        else :\n",
        "            images_url.append(i.get_attribute('data-src'))\n",
        "\n",
        "    # 겹치는 이미지 url 제거\n",
        "    print(\"다운로드한 이미지 개수: {}\".format(len(pd.DataFrame(images_url)[0].unique())))\n",
        "    images_url=pd.DataFrame(images_url)[0].unique()\n",
        "\n",
        "    train_dir = f\"{os.getcwd()}/train\"\n",
        "    if not os.path.isdir(train_dir):\n",
        "        os.mkdir(train_dir)\n",
        "\n",
        "    test_dir = f\"{os.getcwd()}/test\"\n",
        "    if not os.path.isdir(test_dir):\n",
        "        os.mkdir(test_dir)\n",
        "\n",
        "    train_img_dir = train_dir + '/' + image_name\n",
        "    test_img_dir = test_dir + '/' + image_name\n",
        "\n",
        "    if not os.path.isdir(train_img_dir):\n",
        "        os.mkdir(train_img_dir)\n",
        "\n",
        "    if not os.path.isdir(test_img_dir):\n",
        "        os.mkdir(test_img_dir)\n",
        "\n",
        "    # 이미지 다운로드   \n",
        "    for t, url in enumerate(images_url, 0): \n",
        "        if t < 300:      \n",
        "            urlretrieve(url, train_img_dir + '/' +  str(t) + '.jpg')\n",
        "        elif t < 390:\n",
        "            urlretrieve(url, test_img_dir + '/' +  str(t) + '.jpg')\n",
        "    driver.close()"
      ]
    },
    {
      "cell_type": "code",
      "execution_count": null,
      "metadata": {
        "id": "Px9xmR3B9sxy",
        "colab": {
          "base_uri": "https://localhost:8080/"
        },
        "outputId": "7ccd4138-4783-4e59-9856-02a70e355032"
      },
      "outputs": [
        {
          "output_type": "stream",
          "name": "stderr",
          "text": [
            "/usr/local/lib/python3.7/dist-packages/ipykernel_launcher.py:10: DeprecationWarning: find_element_by_name is deprecated. Please use find_element(by=By.NAME, value=name) instead\n",
            "  # Remove the CWD from sys.path while we load stuff.\n"
          ]
        },
        {
          "output_type": "stream",
          "name": "stdout",
          "text": [
            "송지호관망타워 이미지 다운로드 시작\n"
          ]
        },
        {
          "output_type": "stream",
          "name": "stderr",
          "text": [
            "/usr/local/lib/python3.7/dist-packages/ipykernel_launcher.py:18: DeprecationWarning: find_elements_by_css_selector is deprecated. Please use find_elements(by=By.CSS_SELECTOR, value=css_selector) instead\n"
          ]
        },
        {
          "output_type": "stream",
          "name": "stdout",
          "text": [
            "다운로드한 이미지 개수: 399\n"
          ]
        },
        {
          "output_type": "stream",
          "name": "stderr",
          "text": [
            "/usr/local/lib/python3.7/dist-packages/ipykernel_launcher.py:10: DeprecationWarning: find_element_by_name is deprecated. Please use find_element(by=By.NAME, value=name) instead\n",
            "  # Remove the CWD from sys.path while we load stuff.\n"
          ]
        },
        {
          "output_type": "stream",
          "name": "stdout",
          "text": [
            "청평사 이미지 다운로드 시작\n"
          ]
        },
        {
          "output_type": "stream",
          "name": "stderr",
          "text": [
            "/usr/local/lib/python3.7/dist-packages/ipykernel_launcher.py:18: DeprecationWarning: find_elements_by_css_selector is deprecated. Please use find_elements(by=By.CSS_SELECTOR, value=css_selector) instead\n"
          ]
        },
        {
          "output_type": "stream",
          "name": "stdout",
          "text": [
            "다운로드한 이미지 개수: 400\n"
          ]
        },
        {
          "output_type": "stream",
          "name": "stderr",
          "text": [
            "/usr/local/lib/python3.7/dist-packages/ipykernel_launcher.py:10: DeprecationWarning: find_element_by_name is deprecated. Please use find_element(by=By.NAME, value=name) instead\n",
            "  # Remove the CWD from sys.path while we load stuff.\n"
          ]
        },
        {
          "output_type": "stream",
          "name": "stdout",
          "text": [
            "무릉계곡 이미지 다운로드 시작\n"
          ]
        },
        {
          "output_type": "stream",
          "name": "stderr",
          "text": [
            "/usr/local/lib/python3.7/dist-packages/ipykernel_launcher.py:18: DeprecationWarning: find_elements_by_css_selector is deprecated. Please use find_elements(by=By.CSS_SELECTOR, value=css_selector) instead\n"
          ]
        },
        {
          "output_type": "stream",
          "name": "stdout",
          "text": [
            "다운로드한 이미지 개수: 397\n"
          ]
        },
        {
          "output_type": "stream",
          "name": "stderr",
          "text": [
            "/usr/local/lib/python3.7/dist-packages/ipykernel_launcher.py:10: DeprecationWarning: find_element_by_name is deprecated. Please use find_element(by=By.NAME, value=name) instead\n",
            "  # Remove the CWD from sys.path while we load stuff.\n"
          ]
        },
        {
          "output_type": "stream",
          "name": "stdout",
          "text": [
            "삼척해수욕장 이미지 다운로드 시작\n"
          ]
        },
        {
          "output_type": "stream",
          "name": "stderr",
          "text": [
            "/usr/local/lib/python3.7/dist-packages/ipykernel_launcher.py:18: DeprecationWarning: find_elements_by_css_selector is deprecated. Please use find_elements(by=By.CSS_SELECTOR, value=css_selector) instead\n"
          ]
        },
        {
          "output_type": "stream",
          "name": "stdout",
          "text": [
            "다운로드한 이미지 개수: 400\n"
          ]
        },
        {
          "output_type": "stream",
          "name": "stderr",
          "text": [
            "/usr/local/lib/python3.7/dist-packages/ipykernel_launcher.py:10: DeprecationWarning: find_element_by_name is deprecated. Please use find_element(by=By.NAME, value=name) instead\n",
            "  # Remove the CWD from sys.path while we load stuff.\n"
          ]
        },
        {
          "output_type": "stream",
          "name": "stdout",
          "text": [
            "고석정 이미지 다운로드 시작\n"
          ]
        },
        {
          "output_type": "stream",
          "name": "stderr",
          "text": [
            "/usr/local/lib/python3.7/dist-packages/ipykernel_launcher.py:18: DeprecationWarning: find_elements_by_css_selector is deprecated. Please use find_elements(by=By.CSS_SELECTOR, value=css_selector) instead\n"
          ]
        },
        {
          "output_type": "stream",
          "name": "stdout",
          "text": [
            "다운로드한 이미지 개수: 400\n"
          ]
        }
      ],
      "source": [
        "# 코드7\n",
        "# 키워드 검색하기\n",
        "# https://data.gwd.go.kr/index(강원 공공데이터, 강원지관광지정보)\n",
        "search_name_list = ['송지호관망타워', '청평사', '무릉계곡', '삼척해수욕장', '고석정']\n",
        "\n",
        "for image_name in search_name_list:\n",
        "    download_image(image_name)    "
      ]
    },
    {
      "cell_type": "code",
      "execution_count": null,
      "metadata": {
        "id": "ZlTLvqMUG_LI",
        "colab": {
          "base_uri": "https://localhost:8080/",
          "height": 212
        },
        "outputId": "19ad0ada-27a7-40d3-852d-bb483b4e4a71"
      },
      "outputs": [
        {
          "output_type": "execute_result",
          "data": {
            "text/plain": [
              "<PIL.JpegImagePlugin.JpegImageFile image mode=RGB size=259x195 at 0x7FA116525550>"
            ],
            "image/png": "[encoded data removed]"
          },
          "metadata": {},
          "execution_count": 8
        }
      ],
      "source": [
        "# 코드8\n",
        "import PIL\n",
        "img_dir = f\"{os.getcwd()}/train\" + '/' + '송지호관망타워'\n",
        "PIL.Image.open(str(img_dir + '/0.jpg'))"
      ]
    },
    {
      "cell_type": "code",
      "execution_count": null,
      "metadata": {
        "id": "wjF-FcmiFc-y",
        "colab": {
          "base_uri": "https://localhost:8080/"
        },
        "outputId": "2f2b0d03-e25a-4330-fe3b-9e729ba50247"
      },
      "outputs": [
        {
          "output_type": "stream",
          "name": "stdout",
          "text": [
            "Found 1500 images belonging to 5 classes.\n",
            "Found 450 images belonging to 5 classes.\n"
          ]
        }
      ],
      "source": [
        "# 코드9\n",
        "from tensorflow.keras.preprocessing.image import ImageDataGenerator\n",
        "from tensorflow.keras import Input, models, layers, optimizers, metrics\n",
        "from tensorflow.keras.layers import Dense, Flatten\n",
        "from tensorflow.keras.applications import VGG16\n",
        "\n",
        "train_datagen = ImageDataGenerator(rescale=1./255,\n",
        "                                  horizontal_flip=True,\n",
        "                                  width_shift_range=0.1,\n",
        "                                  height_shift_range=0.1,\n",
        "                                  fill_mode='nearest')\n",
        "\n",
        "train_generator = train_datagen.flow_from_directory(\n",
        "       'train',\n",
        "       target_size=(224, 224),\n",
        "       batch_size=10,\n",
        "       class_mode='categorical')\n",
        "\n",
        "test_datagen = ImageDataGenerator(rescale=1./255)\n",
        "\n",
        "test_generator = test_datagen.flow_from_directory(\n",
        "       'test',\n",
        "       target_size=(224, 224),\n",
        "       batch_size=10,\n",
        "       class_mode='categorical')"
      ]
    },
    {
      "cell_type": "code",
      "execution_count": null,
      "metadata": {
        "id": "FisfWjxCxlbt",
        "colab": {
          "base_uri": "https://localhost:8080/"
        },
        "outputId": "2b76cf51-5953-4ab2-a86a-c615a3f5c1bb"
      },
      "outputs": [
        {
          "output_type": "stream",
          "name": "stdout",
          "text": [
            "Downloading data from https://storage.googleapis.com/tensorflow/keras-applications/vgg16/vgg16_weights_tf_dim_ordering_tf_kernels_notop.h5\n",
            "58892288/58889256 [==============================] - 0s 0us/step\n",
            "58900480/58889256 [==============================] - 0s 0us/step\n",
            "Model: \"sequential\"\n",
            "_________________________________________________________________\n",
            " Layer (type)                Output Shape              Param #   \n",
            "=================================================================\n",
            " vgg16 (Functional)          (None, 7, 7, 512)         14714688  \n",
            "                                                                 \n",
            " flatten (Flatten)           (None, 25088)             0         \n",
            "                                                                 \n",
            " dense (Dense)               (None, 64)                1605696   \n",
            "                                                                 \n",
            " dense_1 (Dense)             (None, 5)                 325       \n",
            "                                                                 \n",
            "=================================================================\n",
            "Total params: 16,320,709\n",
            "Trainable params: 1,606,021\n",
            "Non-trainable params: 14,714,688\n",
            "_________________________________________________________________\n"
          ]
        },
        {
          "output_type": "stream",
          "name": "stderr",
          "text": [
            "/usr/local/lib/python3.7/dist-packages/ipykernel_launcher.py:22: UserWarning: `Model.fit_generator` is deprecated and will be removed in a future version. Please use `Model.fit`, which supports generators.\n"
          ]
        },
        {
          "output_type": "stream",
          "name": "stdout",
          "text": [
            "Epoch 1/20\n",
            "100/100 [==============================] - 27s 152ms/step - loss: 1.2291 - accuracy: 0.5140 - val_loss: 1.5377 - val_accuracy: 0.3900\n",
            "Epoch 2/20\n",
            "100/100 [==============================] - 16s 160ms/step - loss: 0.9177 - accuracy: 0.6650 - val_loss: 1.6095 - val_accuracy: 0.4100\n",
            "Epoch 3/20\n",
            "100/100 [==============================] - 15s 152ms/step - loss: 0.7565 - accuracy: 0.7380 - val_loss: 1.6623 - val_accuracy: 0.3500\n",
            "Epoch 4/20\n",
            "100/100 [==============================] - 15s 149ms/step - loss: 0.6867 - accuracy: 0.7480 - val_loss: 1.3324 - val_accuracy: 0.4600\n",
            "Epoch 5/20\n",
            "100/100 [==============================] - 15s 149ms/step - loss: 0.6205 - accuracy: 0.7760 - val_loss: 1.4823 - val_accuracy: 0.4400\n",
            "Epoch 6/20\n",
            "100/100 [==============================] - 15s 148ms/step - loss: 0.6123 - accuracy: 0.7870 - val_loss: 1.4403 - val_accuracy: 0.4800\n",
            "Epoch 7/20\n",
            "100/100 [==============================] - 15s 150ms/step - loss: 0.5595 - accuracy: 0.8030 - val_loss: 1.9336 - val_accuracy: 0.4000\n",
            "Epoch 8/20\n",
            "100/100 [==============================] - 15s 153ms/step - loss: 0.4512 - accuracy: 0.8600 - val_loss: 1.6857 - val_accuracy: 0.4000\n",
            "Epoch 9/20\n",
            "100/100 [==============================] - 15s 152ms/step - loss: 0.4385 - accuracy: 0.8370 - val_loss: 1.5986 - val_accuracy: 0.4600\n",
            "Epoch 10/20\n",
            "100/100 [==============================] - 15s 149ms/step - loss: 0.4039 - accuracy: 0.8560 - val_loss: 1.4798 - val_accuracy: 0.5000\n",
            "Epoch 11/20\n",
            "100/100 [==============================] - 15s 152ms/step - loss: 0.3872 - accuracy: 0.8730 - val_loss: 1.7837 - val_accuracy: 0.4100\n",
            "Epoch 12/20\n",
            "100/100 [==============================] - 15s 149ms/step - loss: 0.4039 - accuracy: 0.8570 - val_loss: 1.5346 - val_accuracy: 0.4600\n",
            "Epoch 13/20\n",
            "100/100 [==============================] - 15s 148ms/step - loss: 0.3337 - accuracy: 0.8970 - val_loss: 1.8859 - val_accuracy: 0.3500\n",
            "Epoch 14/20\n",
            "100/100 [==============================] - 15s 149ms/step - loss: 0.2834 - accuracy: 0.9100 - val_loss: 1.7245 - val_accuracy: 0.4300\n",
            "Epoch 15/20\n",
            "100/100 [==============================] - 15s 149ms/step - loss: 0.2973 - accuracy: 0.9020 - val_loss: 1.9427 - val_accuracy: 0.3400\n",
            "Epoch 16/20\n",
            "100/100 [==============================] - 15s 149ms/step - loss: 0.2631 - accuracy: 0.9150 - val_loss: 1.8400 - val_accuracy: 0.4100\n",
            "Epoch 17/20\n",
            "100/100 [==============================] - 15s 149ms/step - loss: 0.2762 - accuracy: 0.9190 - val_loss: 1.7989 - val_accuracy: 0.4500\n",
            "Epoch 18/20\n",
            "100/100 [==============================] - 16s 160ms/step - loss: 0.2624 - accuracy: 0.9170 - val_loss: 1.6294 - val_accuracy: 0.5100\n",
            "Epoch 19/20\n",
            "100/100 [==============================] - 15s 151ms/step - loss: 0.2285 - accuracy: 0.9340 - val_loss: 1.4060 - val_accuracy: 0.5200\n",
            "Epoch 20/20\n",
            "100/100 [==============================] - 15s 150ms/step - loss: 0.2460 - accuracy: 0.9190 - val_loss: 1.7461 - val_accuracy: 0.4700\n"
          ]
        }
      ],
      "source": [
        "# 코드10\n",
        "transfer_model = VGG16(weights='imagenet', include_top=False, input_shape=(224, 224, 3))\n",
        "transfer_model.trainable = False\n",
        "# transfer_model.summary()\n",
        "\n",
        "finetune_model = models.Sequential()\n",
        "finetune_model.add(transfer_model)\n",
        "finetune_model.add(Flatten())\n",
        "finetune_model.add(Dense(64, activation='relu'))\n",
        "finetune_model.add(Dense(5, activation='softmax'))\n",
        "finetune_model.summary()\n",
        "\n",
        "finetune_model.compile(loss='categorical_crossentropy',\n",
        "                       optimizer=optimizers.Adam(learning_rate=0.0002),\n",
        "                       metrics=['accuracy'])\n",
        "\n",
        "history = finetune_model.fit_generator(\n",
        "       train_generator,\n",
        "       steps_per_epoch=100,\n",
        "       epochs=20,\n",
        "       validation_data=test_generator,\n",
        "       validation_steps=10)\n"
      ]
    },
    {
      "cell_type": "code",
      "execution_count": null,
      "metadata": {
        "id": "O2OtByyFbXwR",
        "colab": {
          "base_uri": "https://localhost:8080/",
          "height": 280
        },
        "outputId": "64690748-f6d5-4d39-bdc0-7fe2fea78914"
      },
      "outputs": [
        {
          "output_type": "display_data",
          "data": {
            "text/plain": [
              "<Figure size 432x288 with 1 Axes>"
            ],
            "image/png": "[encoded data removed]"
          },
          "metadata": {
            "needs_background": "light"
          }
        }
      ],
      "source": [
        "# 코드11\n",
        "acc= history.history['accuracy']\n",
        "val_acc= history.history['val_accuracy']\n",
        "y_vloss = history.history['val_loss']\n",
        "y_loss = history.history['loss']\n",
        "\n",
        "# 그래프로 표현\n",
        "x_len = np.arange(len(y_loss))\n",
        "plt.plot(x_len, acc, marker='.', c=\"red\", label='Trainset_acc')\n",
        "plt.plot(x_len, val_acc, marker='.', c=\"lightcoral\", label='Testset_acc')\n",
        "plt.plot(x_len, y_vloss, marker='.', c=\"cornflowerblue\", label='Testset_loss')\n",
        "plt.plot(x_len, y_loss, marker='.', c=\"blue\", label='Trainset_loss')\n",
        "\n",
        "# 그래프에 그리드를 주고 레이블을 표시\n",
        "plt.legend(loc='upper right')\n",
        "plt.grid()\n",
        "plt.xlabel('epoch')\n",
        "plt.ylabel('loss/acc')\n",
        "plt.show()"
      ]
    },
    {
      "cell_type": "code",
      "source": [
        "# 코드112\n",
        "from tensorflow.keras.applications import ResNet101\n",
        "\n",
        "transfer_model2 = ResNet101(weights='imagenet', include_top=False, input_shape=(224, 224, 3))\n",
        "transfer_model2.trainable = False\n",
        "# transfer_model.summary()\n",
        "\n",
        "finetune_model2 = models.Sequential()\n",
        "finetune_model2.add(transfer_model2)\n",
        "finetune_model2.add(Flatten())\n",
        "finetune_model2.add(Dense(64, activation='relu'))\n",
        "finetune_model2.add(Dense(5, activation='softmax'))\n",
        "finetune_model2.summary()\n",
        "\n",
        "finetune_model2.compile(loss='categorical_crossentropy',\n",
        "                       optimizer=optimizers.Adam(learning_rate=0.0002),\n",
        "                       metrics=['accuracy'])\n",
        "\n",
        "history = finetune_model2.fit_generator(\n",
        "       train_generator,\n",
        "       steps_per_epoch=100,\n",
        "       epochs=100,\n",
        "       validation_data=test_generator,\n",
        "       validation_steps=10)\n"
      ],
      "metadata": {
        "colab": {
          "base_uri": "https://localhost:8080/"
        },
        "id": "evCfWozAYwE1",
        "outputId": "0ae71133-617b-4a18-bbb6-a3d7c1d76242"
      },
      "execution_count": null,
      "outputs": [
        {
          "output_type": "stream",
          "name": "stdout",
          "text": [
            "Downloading data from https://storage.googleapis.com/tensorflow/keras-applications/resnet/resnet101_weights_tf_dim_ordering_tf_kernels_notop.h5\n",
            "171450368/171446536 [==============================] - 2s 0us/step\n",
            "171458560/171446536 [==============================] - 2s 0us/step\n",
            "Model: \"sequential_1\"\n",
            "_________________________________________________________________\n",
            " Layer (type)                Output Shape              Param #   \n",
            "=================================================================\n",
            " resnet101 (Functional)      (None, 7, 7, 2048)        42658176  \n",
            "                                                                 \n",
            " flatten_1 (Flatten)         (None, 100352)            0         \n",
            "                                                                 \n",
            " dense_2 (Dense)             (None, 64)                6422592   \n",
            "                                                                 \n",
            " dense_3 (Dense)             (None, 5)                 325       \n",
            "                                                                 \n",
            "=================================================================\n",
            "Total params: 49,081,093\n",
            "Trainable params: 6,422,917\n",
            "Non-trainable params: 42,658,176\n",
            "_________________________________________________________________\n",
            "Epoch 1/100\n"
          ]
        },
        {
          "output_type": "stream",
          "name": "stderr",
          "text": [
            "/usr/local/lib/python3.7/dist-packages/ipykernel_launcher.py:24: UserWarning: `Model.fit_generator` is deprecated and will be removed in a future version. Please use `Model.fit`, which supports generators.\n"
          ]
        },
        {
          "output_type": "stream",
          "name": "stdout",
          "text": [
            "100/100 [==============================] - 23s 175ms/step - loss: 1.6882 - accuracy: 0.2180 - val_loss: 1.6094 - val_accuracy: 0.1900\n",
            "Epoch 2/100\n",
            "100/100 [==============================] - 17s 165ms/step - loss: 1.6091 - accuracy: 0.2020 - val_loss: 1.6090 - val_accuracy: 0.2400\n",
            "Epoch 3/100\n",
            "100/100 [==============================] - 16s 158ms/step - loss: 1.6177 - accuracy: 0.2020 - val_loss: 1.6089 - val_accuracy: 0.2400\n",
            "Epoch 4/100\n",
            "100/100 [==============================] - 16s 163ms/step - loss: 1.6094 - accuracy: 0.2060 - val_loss: 1.6091 - val_accuracy: 0.2200\n",
            "Epoch 5/100\n",
            "100/100 [==============================] - 16s 163ms/step - loss: 1.6094 - accuracy: 0.2080 - val_loss: 1.6096 - val_accuracy: 0.1500\n",
            "Epoch 6/100\n",
            "100/100 [==============================] - 17s 165ms/step - loss: 1.6093 - accuracy: 0.2240 - val_loss: 1.6094 - val_accuracy: 0.2100\n",
            "Epoch 7/100\n",
            "100/100 [==============================] - 16s 158ms/step - loss: 1.6114 - accuracy: 0.1910 - val_loss: 1.6097 - val_accuracy: 0.2000\n",
            "Epoch 8/100\n",
            "100/100 [==============================] - 16s 158ms/step - loss: 1.6093 - accuracy: 0.2110 - val_loss: 1.6093 - val_accuracy: 0.2200\n",
            "Epoch 9/100\n",
            "100/100 [==============================] - 16s 159ms/step - loss: 1.6122 - accuracy: 0.2060 - val_loss: 1.6092 - val_accuracy: 0.1700\n",
            "Epoch 10/100\n",
            "100/100 [==============================] - 17s 170ms/step - loss: 1.6156 - accuracy: 0.1780 - val_loss: 1.6101 - val_accuracy: 0.1400\n",
            "Epoch 11/100\n",
            "100/100 [==============================] - 16s 158ms/step - loss: 1.6094 - accuracy: 0.1950 - val_loss: 1.6099 - val_accuracy: 0.1700\n",
            "Epoch 12/100\n",
            "100/100 [==============================] - 16s 158ms/step - loss: 1.6095 - accuracy: 0.1780 - val_loss: 1.6098 - val_accuracy: 0.1600\n",
            "Epoch 13/100\n",
            "100/100 [==============================] - 16s 160ms/step - loss: 1.6094 - accuracy: 0.1930 - val_loss: 1.6078 - val_accuracy: 0.2900\n",
            "Epoch 14/100\n",
            "100/100 [==============================] - 16s 159ms/step - loss: 1.6096 - accuracy: 0.1820 - val_loss: 1.6104 - val_accuracy: 0.1700\n",
            "Epoch 15/100\n",
            "100/100 [==============================] - 16s 159ms/step - loss: 1.6095 - accuracy: 0.2020 - val_loss: 1.6092 - val_accuracy: 0.2200\n",
            "Epoch 16/100\n",
            "100/100 [==============================] - 16s 159ms/step - loss: 1.6096 - accuracy: 0.1870 - val_loss: 1.6093 - val_accuracy: 0.2000\n",
            "Epoch 17/100\n",
            "100/100 [==============================] - 16s 159ms/step - loss: 1.6096 - accuracy: 0.1860 - val_loss: 1.6088 - val_accuracy: 0.3000\n",
            "Epoch 18/100\n",
            "100/100 [==============================] - 16s 159ms/step - loss: 1.6094 - accuracy: 0.2060 - val_loss: 1.6095 - val_accuracy: 0.2100\n",
            "Epoch 19/100\n",
            "100/100 [==============================] - 16s 159ms/step - loss: 1.6096 - accuracy: 0.1810 - val_loss: 1.6090 - val_accuracy: 0.1300\n",
            "Epoch 20/100\n",
            "100/100 [==============================] - 16s 159ms/step - loss: 1.6094 - accuracy: 0.2060 - val_loss: 1.6093 - val_accuracy: 0.1800\n",
            "Epoch 21/100\n",
            "100/100 [==============================] - 16s 161ms/step - loss: 1.6095 - accuracy: 0.1760 - val_loss: 1.6096 - val_accuracy: 0.2100\n",
            "Epoch 22/100\n",
            "100/100 [==============================] - 16s 160ms/step - loss: 1.6096 - accuracy: 0.1950 - val_loss: 1.6094 - val_accuracy: 0.1900\n",
            "Epoch 23/100\n",
            "100/100 [==============================] - 16s 159ms/step - loss: 1.6095 - accuracy: 0.1950 - val_loss: 1.6090 - val_accuracy: 0.1800\n",
            "Epoch 24/100\n",
            "100/100 [==============================] - 16s 158ms/step - loss: 1.6094 - accuracy: 0.2010 - val_loss: 1.6091 - val_accuracy: 0.2100\n",
            "Epoch 25/100\n",
            "100/100 [==============================] - 16s 158ms/step - loss: 1.6092 - accuracy: 0.1960 - val_loss: 1.6096 - val_accuracy: 0.1200\n",
            "Epoch 26/100\n",
            "100/100 [==============================] - 16s 161ms/step - loss: 1.6092 - accuracy: 0.2010 - val_loss: 1.6094 - val_accuracy: 0.2400\n",
            "Epoch 27/100\n",
            "100/100 [==============================] - 16s 159ms/step - loss: 1.6095 - accuracy: 0.2020 - val_loss: 1.6098 - val_accuracy: 0.1700\n",
            "Epoch 28/100\n",
            "100/100 [==============================] - 16s 158ms/step - loss: 1.6097 - accuracy: 0.1960 - val_loss: 1.6093 - val_accuracy: 0.2000\n",
            "Epoch 29/100\n",
            "100/100 [==============================] - 16s 159ms/step - loss: 1.6096 - accuracy: 0.1920 - val_loss: 1.6090 - val_accuracy: 0.2500\n",
            "Epoch 30/100\n",
            "100/100 [==============================] - 16s 160ms/step - loss: 1.6094 - accuracy: 0.1970 - val_loss: 1.6094 - val_accuracy: 0.2100\n",
            "Epoch 31/100\n",
            "100/100 [==============================] - 16s 159ms/step - loss: 1.6095 - accuracy: 0.1910 - val_loss: 1.6106 - val_accuracy: 0.1200\n",
            "Epoch 32/100\n",
            "100/100 [==============================] - 16s 159ms/step - loss: 1.6095 - accuracy: 0.2080 - val_loss: 1.6100 - val_accuracy: 0.1600\n",
            "Epoch 33/100\n",
            "100/100 [==============================] - 16s 159ms/step - loss: 1.6095 - accuracy: 0.1920 - val_loss: 1.6088 - val_accuracy: 0.2100\n",
            "Epoch 34/100\n",
            "100/100 [==============================] - 16s 160ms/step - loss: 1.6094 - accuracy: 0.2040 - val_loss: 1.6100 - val_accuracy: 0.1200\n",
            "Epoch 35/100\n",
            "100/100 [==============================] - 16s 160ms/step - loss: 1.6095 - accuracy: 0.2020 - val_loss: 1.6094 - val_accuracy: 0.2200\n",
            "Epoch 36/100\n",
            "100/100 [==============================] - 16s 160ms/step - loss: 1.6095 - accuracy: 0.2040 - val_loss: 1.6089 - val_accuracy: 0.2900\n",
            "Epoch 37/100\n",
            "100/100 [==============================] - 16s 160ms/step - loss: 1.6094 - accuracy: 0.2080 - val_loss: 1.6099 - val_accuracy: 0.1600\n",
            "Epoch 38/100\n",
            "100/100 [==============================] - 16s 163ms/step - loss: 1.6096 - accuracy: 0.1980 - val_loss: 1.6094 - val_accuracy: 0.2300\n",
            "Epoch 39/100\n",
            "100/100 [==============================] - 16s 160ms/step - loss: 1.6095 - accuracy: 0.2100 - val_loss: 1.6093 - val_accuracy: 0.2100\n",
            "Epoch 40/100\n",
            "100/100 [==============================] - 16s 160ms/step - loss: 1.6094 - accuracy: 0.2090 - val_loss: 1.6086 - val_accuracy: 0.2600\n",
            "Epoch 41/100\n",
            "100/100 [==============================] - 16s 160ms/step - loss: 1.6094 - accuracy: 0.2070 - val_loss: 1.6103 - val_accuracy: 0.1400\n",
            "Epoch 42/100\n",
            "100/100 [==============================] - 16s 161ms/step - loss: 1.6096 - accuracy: 0.1970 - val_loss: 1.6090 - val_accuracy: 0.2200\n",
            "Epoch 43/100\n",
            "100/100 [==============================] - 16s 158ms/step - loss: 1.6094 - accuracy: 0.2110 - val_loss: 1.6097 - val_accuracy: 0.2000\n",
            "Epoch 44/100\n",
            "100/100 [==============================] - 16s 159ms/step - loss: 1.6097 - accuracy: 0.1880 - val_loss: 1.6098 - val_accuracy: 0.1900\n",
            "Epoch 45/100\n",
            "100/100 [==============================] - 16s 159ms/step - loss: 1.6094 - accuracy: 0.2030 - val_loss: 1.6087 - val_accuracy: 0.2500\n",
            "Epoch 46/100\n",
            "100/100 [==============================] - 16s 158ms/step - loss: 1.6097 - accuracy: 0.1820 - val_loss: 1.6093 - val_accuracy: 0.2000\n",
            "Epoch 47/100\n",
            "100/100 [==============================] - 16s 159ms/step - loss: 1.6094 - accuracy: 0.2100 - val_loss: 1.6098 - val_accuracy: 0.1700\n",
            "Epoch 48/100\n",
            "100/100 [==============================] - 16s 158ms/step - loss: 1.6095 - accuracy: 0.2090 - val_loss: 1.6094 - val_accuracy: 0.2000\n",
            "Epoch 49/100\n",
            "100/100 [==============================] - 16s 159ms/step - loss: 1.6094 - accuracy: 0.2030 - val_loss: 1.6094 - val_accuracy: 0.2200\n",
            "Epoch 50/100\n",
            "100/100 [==============================] - 16s 158ms/step - loss: 1.6094 - accuracy: 0.2070 - val_loss: 1.6091 - val_accuracy: 0.2100\n",
            "Epoch 51/100\n",
            "100/100 [==============================] - 16s 160ms/step - loss: 1.6095 - accuracy: 0.1900 - val_loss: 1.6099 - val_accuracy: 0.1600\n",
            "Epoch 52/100\n",
            "100/100 [==============================] - 16s 159ms/step - loss: 1.6095 - accuracy: 0.1950 - val_loss: 1.6094 - val_accuracy: 0.1800\n",
            "Epoch 53/100\n",
            "100/100 [==============================] - 16s 158ms/step - loss: 1.6095 - accuracy: 0.1910 - val_loss: 1.6092 - val_accuracy: 0.1900\n",
            "Epoch 54/100\n",
            "100/100 [==============================] - 16s 159ms/step - loss: 1.6095 - accuracy: 0.1860 - val_loss: 1.6099 - val_accuracy: 0.1800\n",
            "Epoch 55/100\n",
            "100/100 [==============================] - 16s 161ms/step - loss: 1.6095 - accuracy: 0.1990 - val_loss: 1.6093 - val_accuracy: 0.2400\n",
            "Epoch 56/100\n",
            "100/100 [==============================] - 16s 159ms/step - loss: 1.6094 - accuracy: 0.2070 - val_loss: 1.6093 - val_accuracy: 0.1900\n",
            "Epoch 57/100\n",
            "100/100 [==============================] - 16s 158ms/step - loss: 1.6094 - accuracy: 0.1950 - val_loss: 1.6094 - val_accuracy: 0.2000\n",
            "Epoch 58/100\n",
            "100/100 [==============================] - 16s 159ms/step - loss: 1.6096 - accuracy: 0.1910 - val_loss: 1.6097 - val_accuracy: 0.1600\n",
            "Epoch 59/100\n",
            "100/100 [==============================] - 17s 170ms/step - loss: 1.6094 - accuracy: 0.1890 - val_loss: 1.6097 - val_accuracy: 0.1500\n",
            "Epoch 60/100\n",
            "100/100 [==============================] - 16s 158ms/step - loss: 1.6091 - accuracy: 0.2060 - val_loss: 1.6096 - val_accuracy: 0.2400\n",
            "Epoch 61/100\n",
            "100/100 [==============================] - 16s 157ms/step - loss: 1.6096 - accuracy: 0.1990 - val_loss: 1.6084 - val_accuracy: 0.2400\n",
            "Epoch 62/100\n",
            "100/100 [==============================] - 16s 158ms/step - loss: 1.6095 - accuracy: 0.2150 - val_loss: 1.6086 - val_accuracy: 0.2400\n",
            "Epoch 63/100\n",
            "100/100 [==============================] - 16s 159ms/step - loss: 1.6095 - accuracy: 0.2030 - val_loss: 1.6096 - val_accuracy: 0.2300\n",
            "Epoch 64/100\n",
            "100/100 [==============================] - 16s 157ms/step - loss: 1.6095 - accuracy: 0.2060 - val_loss: 1.6106 - val_accuracy: 0.1600\n",
            "Epoch 65/100\n",
            "100/100 [==============================] - 16s 158ms/step - loss: 1.6095 - accuracy: 0.2000 - val_loss: 1.6099 - val_accuracy: 0.1600\n",
            "Epoch 66/100\n",
            "100/100 [==============================] - 16s 159ms/step - loss: 1.6096 - accuracy: 0.1960 - val_loss: 1.6095 - val_accuracy: 0.2000\n",
            "Epoch 67/100\n",
            "100/100 [==============================] - 16s 159ms/step - loss: 1.6094 - accuracy: 0.2050 - val_loss: 1.6091 - val_accuracy: 0.2100\n",
            "Epoch 68/100\n",
            "100/100 [==============================] - 16s 160ms/step - loss: 1.6095 - accuracy: 0.1990 - val_loss: 1.6092 - val_accuracy: 0.2300\n",
            "Epoch 69/100\n",
            "100/100 [==============================] - 16s 159ms/step - loss: 1.6096 - accuracy: 0.1990 - val_loss: 1.6100 - val_accuracy: 0.1400\n",
            "Epoch 70/100\n",
            "100/100 [==============================] - 16s 159ms/step - loss: 1.6095 - accuracy: 0.1960 - val_loss: 1.6093 - val_accuracy: 0.2300\n",
            "Epoch 71/100\n",
            "100/100 [==============================] - 16s 164ms/step - loss: 1.6095 - accuracy: 0.1970 - val_loss: 1.6095 - val_accuracy: 0.2200\n",
            "Epoch 72/100\n",
            "100/100 [==============================] - 16s 158ms/step - loss: 1.6095 - accuracy: 0.1990 - val_loss: 1.6095 - val_accuracy: 0.2000\n",
            "Epoch 73/100\n",
            "100/100 [==============================] - 16s 160ms/step - loss: 1.6095 - accuracy: 0.1980 - val_loss: 1.6087 - val_accuracy: 0.2700\n",
            "Epoch 74/100\n",
            "100/100 [==============================] - 17s 172ms/step - loss: 1.6095 - accuracy: 0.1990 - val_loss: 1.6088 - val_accuracy: 0.2800\n",
            "Epoch 75/100\n",
            "100/100 [==============================] - 16s 159ms/step - loss: 1.6094 - accuracy: 0.2100 - val_loss: 1.6092 - val_accuracy: 0.2200\n",
            "Epoch 76/100\n",
            "100/100 [==============================] - 16s 159ms/step - loss: 1.6096 - accuracy: 0.1970 - val_loss: 1.6091 - val_accuracy: 0.2600\n",
            "Epoch 77/100\n",
            "100/100 [==============================] - 16s 159ms/step - loss: 1.6095 - accuracy: 0.1970 - val_loss: 1.6089 - val_accuracy: 0.2200\n",
            "Epoch 78/100\n",
            "100/100 [==============================] - 16s 160ms/step - loss: 1.6094 - accuracy: 0.2030 - val_loss: 1.6097 - val_accuracy: 0.1900\n",
            "Epoch 79/100\n",
            "100/100 [==============================] - 16s 162ms/step - loss: 1.6094 - accuracy: 0.1950 - val_loss: 1.6091 - val_accuracy: 0.2400\n",
            "Epoch 80/100\n",
            "100/100 [==============================] - 16s 160ms/step - loss: 1.6095 - accuracy: 0.2050 - val_loss: 1.6093 - val_accuracy: 0.2100\n",
            "Epoch 81/100\n",
            "100/100 [==============================] - 16s 162ms/step - loss: 1.6096 - accuracy: 0.1960 - val_loss: 1.6094 - val_accuracy: 0.2300\n",
            "Epoch 82/100\n",
            "100/100 [==============================] - 16s 162ms/step - loss: 1.6096 - accuracy: 0.1980 - val_loss: 1.6089 - val_accuracy: 0.2100\n",
            "Epoch 83/100\n",
            "100/100 [==============================] - 16s 160ms/step - loss: 1.6095 - accuracy: 0.1970 - val_loss: 1.6091 - val_accuracy: 0.2200\n",
            "Epoch 84/100\n",
            "100/100 [==============================] - 16s 161ms/step - loss: 1.6094 - accuracy: 0.1830 - val_loss: 1.6101 - val_accuracy: 0.2000\n",
            "Epoch 85/100\n",
            "100/100 [==============================] - 16s 162ms/step - loss: 1.6096 - accuracy: 0.1970 - val_loss: 1.6099 - val_accuracy: 0.2300\n",
            "Epoch 86/100\n",
            "100/100 [==============================] - 16s 161ms/step - loss: 1.6093 - accuracy: 0.2140 - val_loss: 1.6097 - val_accuracy: 0.1400\n",
            "Epoch 87/100\n",
            "100/100 [==============================] - 16s 160ms/step - loss: 1.6096 - accuracy: 0.2050 - val_loss: 1.6093 - val_accuracy: 0.2000\n",
            "Epoch 88/100\n",
            "100/100 [==============================] - 17s 165ms/step - loss: 1.6096 - accuracy: 0.1870 - val_loss: 1.6101 - val_accuracy: 0.2100\n",
            "Epoch 89/100\n",
            "100/100 [==============================] - 16s 162ms/step - loss: 1.6095 - accuracy: 0.1980 - val_loss: 1.6094 - val_accuracy: 0.2000\n",
            "Epoch 90/100\n",
            "100/100 [==============================] - 16s 161ms/step - loss: 1.6095 - accuracy: 0.1710 - val_loss: 1.6095 - val_accuracy: 0.1300\n",
            "Epoch 91/100\n",
            "100/100 [==============================] - 16s 160ms/step - loss: 1.6095 - accuracy: 0.1930 - val_loss: 1.6094 - val_accuracy: 0.2000\n",
            "Epoch 92/100\n",
            "100/100 [==============================] - 17s 173ms/step - loss: 1.6094 - accuracy: 0.2080 - val_loss: 1.6097 - val_accuracy: 0.2200\n",
            "Epoch 93/100\n",
            "100/100 [==============================] - 16s 161ms/step - loss: 1.6095 - accuracy: 0.1980 - val_loss: 1.6101 - val_accuracy: 0.1500\n",
            "Epoch 94/100\n",
            "100/100 [==============================] - 16s 160ms/step - loss: 1.6095 - accuracy: 0.1930 - val_loss: 1.6097 - val_accuracy: 0.1400\n",
            "Epoch 95/100\n",
            "100/100 [==============================] - 16s 161ms/step - loss: 1.6095 - accuracy: 0.1730 - val_loss: 1.6102 - val_accuracy: 0.1800\n",
            "Epoch 96/100\n",
            "100/100 [==============================] - 16s 162ms/step - loss: 1.6094 - accuracy: 0.1820 - val_loss: 1.6096 - val_accuracy: 0.2100\n",
            "Epoch 97/100\n",
            "100/100 [==============================] - 16s 158ms/step - loss: 1.6095 - accuracy: 0.1960 - val_loss: 1.6089 - val_accuracy: 0.2000\n",
            "Epoch 98/100\n",
            "100/100 [==============================] - 16s 160ms/step - loss: 1.6095 - accuracy: 0.2120 - val_loss: 1.6095 - val_accuracy: 0.1800\n",
            "Epoch 99/100\n",
            "100/100 [==============================] - 16s 160ms/step - loss: 1.6093 - accuracy: 0.2050 - val_loss: 1.6103 - val_accuracy: 0.1300\n",
            "Epoch 100/100\n",
            "100/100 [==============================] - 16s 159ms/step - loss: 1.6095 - accuracy: 0.2020 - val_loss: 1.6083 - val_accuracy: 0.2600\n"
          ]
        }
      ]
    },
    {
      "cell_type": "code",
      "source": [
        " # 코드11\n",
        "acc= history.history['accuracy']\n",
        "val_acc= history.history['val_accuracy']\n",
        "y_vloss = history.history['val_loss']\n",
        "y_loss = history.history['loss']\n",
        "\n",
        "# 그래프로 표현\n",
        "x_len = np.arange(len(y_loss))\n",
        "plt.plot(x_len, acc, marker='.', c=\"red\", label='Trainset_acc')\n",
        "plt.plot(x_len, val_acc, marker='.', c=\"lightcoral\", label='Testset_acc')\n",
        "plt.plot(x_len, y_vloss, marker='.', c=\"cornflowerblue\", label='Testset_loss')\n",
        "plt.plot(x_len, y_loss, marker='.', c=\"blue\", label='Trainset_loss')\n",
        "\n",
        "# 그래프에 그리드를 주고 레이블을 표시\n",
        "plt.legend(loc='upper right')\n",
        "plt.grid()\n",
        "plt.xlabel('epoch')\n",
        "plt.ylabel('loss/acc')\n",
        "plt.show()"
      ],
      "metadata": {
        "colab": {
          "base_uri": "https://localhost:8080/",
          "height": 279
        },
        "id": "YuvlxfE0ZCGC",
        "outputId": "ca9155d5-cdf0-4fe5-e94d-fd36d29b9c60"
      },
      "execution_count": null,
      "outputs": [
        {
          "output_type": "display_data",
          "data": {
            "text/plain": [
              "<Figure size 432x288 with 1 Axes>"
            ],
            "image/png": "[encoded data removed]"
          },
          "metadata": {
            "needs_background": "light"
          }
        }
      ]
    },
    {
      "cell_type": "code",
      "source": [
        "# 코드112\n",
        "from tensorflow.keras.applications import ResNet101\n",
        "\n",
        "transfer_model2 = ResNet101(weights='imagenet', include_top=False, input_shape=(224, 224, 3))\n",
        "transfer_model2.trainable = False\n",
        "# transfer_model.summary()\n",
        "\n",
        "finetune_model2 = models.Sequential()\n",
        "finetune_model2.add(transfer_model2)\n",
        "finetune_model2.add(Flatten())\n",
        "finetune_model2.add(Dense(64, activation='relu'))\n",
        "finetune_model2.add(Dense(128, activation='relu'))\n",
        "finetune_model2.add(Dense(5, activation='softmax'))\n",
        "finetune_model2.summary()\n",
        "\n",
        "finetune_model2.compile(loss='categorical_crossentropy',\n",
        "                       optimizer=optimizers.Adam(learning_rate=0.0001),\n",
        "                       metrics=['accuracy'])\n",
        "\n",
        "history = finetune_model2.fit_generator(\n",
        "       train_generator,\n",
        "       steps_per_epoch=100,\n",
        "       epochs=1000,\n",
        "       validation_data=test_generator,\n",
        "       validation_steps=10)\n"
      ],
      "metadata": {
        "colab": {
          "base_uri": "https://localhost:8080/",
          "height": 1000
        },
        "id": "p34_yZoigYiO",
        "outputId": "02cb1f6b-c53f-476a-95a9-93b02dfb2d6e"
      },
      "execution_count": null,
      "outputs": [
        {
          "metadata": {
            "tags": null
          },
          "name": "stdout",
          "output_type": "stream",
          "text": [
            "Model: \"sequential_2\"\n",
            "_________________________________________________________________\n",
            " Layer (type)                Output Shape              Param #   \n",
            "=================================================================\n",
            " resnet101 (Functional)      (None, 7, 7, 2048)        42658176  \n",
            "                                                                 \n",
            " flatten_2 (Flatten)         (None, 100352)            0         \n",
            "                                                                 \n",
            " dense_4 (Dense)             (None, 64)                6422592   \n",
            "                                                                 \n",
            " dense_5 (Dense)             (None, 128)               8320      \n",
            "                                                                 \n",
            " dense_6 (Dense)             (None, 5)                 645       \n",
            "                                                                 \n",
            "=================================================================\n",
            "Total params: 49,089,733\n",
            "Trainable params: 6,431,557\n",
            "Non-trainable params: 42,658,176\n",
            "_________________________________________________________________\n"
          ]
        },
        {
          "metadata": {
            "tags": null
          },
          "name": "stderr",
          "output_type": "stream",
          "text": [
            "/usr/local/lib/python3.7/dist-packages/ipykernel_launcher.py:25: UserWarning: `Model.fit_generator` is deprecated and will be removed in a future version. Please use `Model.fit`, which supports generators.\n"
          ]
        },
        {
          "metadata": {
            "tags": null
          },
          "name": "stdout",
          "output_type": "stream",
          "text": [
            "Epoch 1/1000\n",
            "100/100 [==============================] - 23s 178ms/step - loss: 1.6217 - accuracy: 0.2240 - val_loss: 1.6128 - val_accuracy: 0.1800\n",
            "Epoch 2/1000\n",
            "100/100 [==============================] - 16s 158ms/step - loss: 1.5774 - accuracy: 0.2800 - val_loss: 1.6660 - val_accuracy: 0.2600\n",
            "Epoch 3/1000\n",
            "100/100 [==============================] - 16s 159ms/step - loss: 1.5730 - accuracy: 0.2760 - val_loss: 1.6457 - val_accuracy: 0.2100\n",
            "Epoch 4/1000\n",
            "100/100 [==============================] - 16s 163ms/step - loss: 1.5423 - accuracy: 0.3110 - val_loss: 1.5967 - val_accuracy: 0.2300\n",
            "Epoch 5/1000\n",
            "100/100 [==============================] - 16s 161ms/step - loss: 1.5208 - accuracy: 0.3130 - val_loss: 1.6697 - val_accuracy: 0.1900\n",
            "Epoch 6/1000\n",
            "100/100 [==============================] - 17s 173ms/step - loss: 1.5039 - accuracy: 0.3370 - val_loss: 1.6452 - val_accuracy: 0.1700\n",
            "Epoch 7/1000\n",
            "100/100 [==============================] - 17s 169ms/step - loss: 1.5034 - accuracy: 0.3410 - val_loss: 1.5786 - val_accuracy: 0.3000\n",
            "Epoch 8/1000\n",
            "100/100 [==============================] - 17s 167ms/step - loss: 1.5152 - accuracy: 0.3220 - val_loss: 1.5997 - val_accuracy: 0.2900\n",
            "Epoch 9/1000\n",
            "100/100 [==============================] - 17s 166ms/step - loss: 1.4878 - accuracy: 0.3330 - val_loss: 1.6180 - val_accuracy: 0.2700\n",
            "Epoch 10/1000\n",
            "100/100 [==============================] - 17s 166ms/step - loss: 1.4522 - accuracy: 0.3730 - val_loss: 1.5928 - val_accuracy: 0.2700\n",
            "Epoch 11/1000\n",
            "100/100 [==============================] - 17s 167ms/step - loss: 1.4795 - accuracy: 0.3600 - val_loss: 1.7388 - val_accuracy: 0.2100\n",
            "Epoch 12/1000\n",
            "100/100 [==============================] - 16s 164ms/step - loss: 1.4838 - accuracy: 0.3510 - val_loss: 1.6131 - val_accuracy: 0.2800\n",
            "Epoch 13/1000\n",
            "100/100 [==============================] - 17s 169ms/step - loss: 1.4332 - accuracy: 0.3850 - val_loss: 1.5868 - val_accuracy: 0.3000\n",
            "Epoch 14/1000\n",
            "100/100 [==============================] - 16s 163ms/step - loss: 1.4286 - accuracy: 0.3910 - val_loss: 1.5969 - val_accuracy: 0.3100\n",
            "Epoch 15/1000\n",
            "100/100 [==============================] - 17s 165ms/step - loss: 1.4183 - accuracy: 0.4070 - val_loss: 1.5465 - val_accuracy: 0.3100\n",
            "Epoch 16/1000\n",
            "100/100 [==============================] - 17s 165ms/step - loss: 1.4316 - accuracy: 0.3960 - val_loss: 1.6360 - val_accuracy: 0.2100\n",
            "Epoch 17/1000\n",
            "100/100 [==============================] - 17s 171ms/step - loss: 1.4091 - accuracy: 0.3960 - val_loss: 1.5205 - val_accuracy: 0.3000\n",
            "Epoch 18/1000\n",
            "100/100 [==============================] - 16s 158ms/step - loss: 1.4271 - accuracy: 0.3900 - val_loss: 1.5794 - val_accuracy: 0.2700\n",
            "Epoch 19/1000\n",
            "100/100 [==============================] - 16s 159ms/step - loss: 1.4186 - accuracy: 0.3710 - val_loss: 1.5550 - val_accuracy: 0.2700\n",
            "Epoch 20/1000\n",
            "100/100 [==============================] - 16s 161ms/step - loss: 1.3833 - accuracy: 0.4560 - val_loss: 1.5356 - val_accuracy: 0.3400\n",
            "Epoch 21/1000\n",
            "100/100 [==============================] - 16s 161ms/step - loss: 1.3707 - accuracy: 0.4340 - val_loss: 1.6373 - val_accuracy: 0.2500\n",
            "Epoch 22/1000\n",
            "100/100 [==============================] - 16s 161ms/step - loss: 1.3712 - accuracy: 0.4310 - val_loss: 1.6230 - val_accuracy: 0.3200\n",
            "Epoch 23/1000\n",
            "100/100 [==============================] - 16s 160ms/step - loss: 1.3776 - accuracy: 0.4380 - val_loss: 1.5409 - val_accuracy: 0.3000\n",
            "Epoch 24/1000\n",
            "100/100 [==============================] - 16s 159ms/step - loss: 1.3659 - accuracy: 0.4280 - val_loss: 1.6614 - val_accuracy: 0.2600\n",
            "Epoch 25/1000\n",
            "100/100 [==============================] - 16s 159ms/step - loss: 1.3512 - accuracy: 0.4460 - val_loss: 1.5681 - val_accuracy: 0.3300\n",
            "Epoch 26/1000\n",
            "100/100 [==============================] - 16s 158ms/step - loss: 1.3518 - accuracy: 0.4510 - val_loss: 1.4102 - val_accuracy: 0.4600\n",
            "Epoch 27/1000\n",
            "100/100 [==============================] - 16s 158ms/step - loss: 1.3357 - accuracy: 0.4360 - val_loss: 1.5505 - val_accuracy: 0.3300\n",
            "Epoch 28/1000\n",
            "100/100 [==============================] - 16s 162ms/step - loss: 1.3512 - accuracy: 0.3950 - val_loss: 1.4591 - val_accuracy: 0.3400\n",
            "Epoch 29/1000\n",
            "100/100 [==============================] - 16s 165ms/step - loss: 1.3438 - accuracy: 0.4530 - val_loss: 1.4375 - val_accuracy: 0.3700\n",
            "Epoch 30/1000\n",
            "100/100 [==============================] - 16s 159ms/step - loss: 1.3396 - accuracy: 0.4470 - val_loss: 1.6024 - val_accuracy: 0.3400\n",
            "Epoch 31/1000\n",
            "100/100 [==============================] - 16s 158ms/step - loss: 1.3498 - accuracy: 0.4320 - val_loss: 1.5703 - val_accuracy: 0.3500\n",
            "Epoch 32/1000\n",
            "100/100 [==============================] - 16s 159ms/step - loss: 1.3397 - accuracy: 0.4540 - val_loss: 1.6182 - val_accuracy: 0.3300\n",
            "Epoch 33/1000\n",
            "100/100 [==============================] - 17s 172ms/step - loss: 1.3168 - accuracy: 0.4490 - val_loss: 1.5119 - val_accuracy: 0.3600\n",
            "Epoch 34/1000\n",
            "100/100 [==============================] - 16s 162ms/step - loss: 1.3041 - accuracy: 0.4630 - val_loss: 1.6340 - val_accuracy: 0.3100\n",
            "Epoch 35/1000\n",
            "100/100 [==============================] - 16s 160ms/step - loss: 1.3145 - accuracy: 0.4520 - val_loss: 1.5818 - val_accuracy: 0.3100\n",
            "Epoch 36/1000\n",
            "100/100 [==============================] - 16s 159ms/step - loss: 1.3121 - accuracy: 0.4680 - val_loss: 1.5159 - val_accuracy: 0.3200\n",
            "Epoch 37/1000\n",
            "100/100 [==============================] - 16s 160ms/step - loss: 1.3019 - accuracy: 0.4470 - val_loss: 1.4190 - val_accuracy: 0.4300\n",
            "Epoch 38/1000\n",
            "100/100 [==============================] - 16s 161ms/step - loss: 1.2929 - accuracy: 0.4750 - val_loss: 1.7319 - val_accuracy: 0.3200\n",
            "Epoch 39/1000\n",
            "100/100 [==============================] - 16s 159ms/step - loss: 1.3168 - accuracy: 0.4520 - val_loss: 1.6167 - val_accuracy: 0.3200\n",
            "Epoch 40/1000\n",
            "100/100 [==============================] - 16s 159ms/step - loss: 1.2977 - accuracy: 0.4730 - val_loss: 1.6316 - val_accuracy: 0.3100\n",
            "Epoch 41/1000\n",
            "100/100 [==============================] - 16s 159ms/step - loss: 1.2996 - accuracy: 0.4670 - val_loss: 1.5543 - val_accuracy: 0.3500\n",
            "Epoch 42/1000\n",
            "100/100 [==============================] - 16s 158ms/step - loss: 1.2602 - accuracy: 0.4910 - val_loss: 1.6324 - val_accuracy: 0.3100\n",
            "Epoch 43/1000\n",
            "100/100 [==============================] - 16s 159ms/step - loss: 1.2626 - accuracy: 0.4950 - val_loss: 1.4927 - val_accuracy: 0.4300\n",
            "Epoch 44/1000\n",
            "100/100 [==============================] - 16s 156ms/step - loss: 1.2667 - accuracy: 0.4800 - val_loss: 1.5428 - val_accuracy: 0.4300\n",
            "Epoch 45/1000\n",
            "100/100 [==============================] - 15s 154ms/step - loss: 1.2569 - accuracy: 0.4960 - val_loss: 1.6314 - val_accuracy: 0.2800\n",
            "Epoch 46/1000\n",
            "100/100 [==============================] - 16s 158ms/step - loss: 1.2916 - accuracy: 0.4800 - val_loss: 1.4763 - val_accuracy: 0.3200\n",
            "Epoch 47/1000\n",
            "100/100 [==============================] - 16s 156ms/step - loss: 1.2443 - accuracy: 0.5140 - val_loss: 1.4964 - val_accuracy: 0.3600\n",
            "Epoch 48/1000\n",
            "100/100 [==============================] - 16s 157ms/step - loss: 1.2161 - accuracy: 0.5330 - val_loss: 1.6373 - val_accuracy: 0.3200\n",
            "Epoch 49/1000\n",
            "100/100 [==============================] - 16s 157ms/step - loss: 1.2283 - accuracy: 0.5120 - val_loss: 1.7277 - val_accuracy: 0.3500\n",
            "Epoch 50/1000\n",
            "100/100 [==============================] - 17s 167ms/step - loss: 1.2353 - accuracy: 0.4970 - val_loss: 1.5352 - val_accuracy: 0.3000\n",
            "Epoch 51/1000\n",
            "100/100 [==============================] - 16s 156ms/step - loss: 1.2264 - accuracy: 0.5000 - val_loss: 1.5951 - val_accuracy: 0.3300\n",
            "Epoch 52/1000\n",
            "100/100 [==============================] - 16s 156ms/step - loss: 1.2496 - accuracy: 0.4760 - val_loss: 1.7256 - val_accuracy: 0.2800\n",
            "Epoch 53/1000\n",
            "100/100 [==============================] - 16s 156ms/step - loss: 1.2249 - accuracy: 0.5090 - val_loss: 1.5162 - val_accuracy: 0.3800\n",
            "Epoch 54/1000\n",
            "100/100 [==============================] - 15s 154ms/step - loss: 1.2219 - accuracy: 0.5120 - val_loss: 1.7194 - val_accuracy: 0.2700\n",
            "Epoch 55/1000\n",
            "100/100 [==============================] - 15s 154ms/step - loss: 1.2318 - accuracy: 0.5090 - val_loss: 1.7278 - val_accuracy: 0.2600\n",
            "Epoch 56/1000\n",
            "100/100 [==============================] - 16s 156ms/step - loss: 1.2299 - accuracy: 0.4920 - val_loss: 1.4854 - val_accuracy: 0.3800\n",
            "Epoch 57/1000\n",
            "100/100 [==============================] - 16s 155ms/step - loss: 1.2438 - accuracy: 0.4910 - val_loss: 1.5302 - val_accuracy: 0.3600\n",
            "Epoch 58/1000\n",
            "100/100 [==============================] - 15s 154ms/step - loss: 1.2396 - accuracy: 0.5020 - val_loss: 1.7496 - val_accuracy: 0.2500\n",
            "Epoch 59/1000\n",
            "100/100 [==============================] - 15s 154ms/step - loss: 1.2313 - accuracy: 0.5050 - val_loss: 1.5936 - val_accuracy: 0.2800\n",
            "Epoch 60/1000\n",
            "100/100 [==============================] - 16s 155ms/step - loss: 1.2069 - accuracy: 0.5270 - val_loss: 1.6658 - val_accuracy: 0.3000\n",
            "Epoch 61/1000\n",
            "100/100 [==============================] - 15s 154ms/step - loss: 1.2089 - accuracy: 0.5150 - val_loss: 1.7704 - val_accuracy: 0.2600\n",
            "Epoch 62/1000\n",
            "100/100 [==============================] - 16s 155ms/step - loss: 1.1901 - accuracy: 0.5350 - val_loss: 1.7050 - val_accuracy: 0.2900\n",
            "Epoch 63/1000\n",
            "100/100 [==============================] - 16s 155ms/step - loss: 1.1763 - accuracy: 0.5120 - val_loss: 1.7523 - val_accuracy: 0.3100\n",
            "Epoch 64/1000\n",
            "100/100 [==============================] - 16s 158ms/step - loss: 1.2296 - accuracy: 0.5060 - val_loss: 1.6778 - val_accuracy: 0.3100\n",
            "Epoch 65/1000\n",
            "100/100 [==============================] - 16s 154ms/step - loss: 1.1858 - accuracy: 0.5200 - val_loss: 1.4514 - val_accuracy: 0.4700\n",
            "Epoch 66/1000\n",
            "100/100 [==============================] - 15s 154ms/step - loss: 1.2005 - accuracy: 0.5100 - val_loss: 1.7551 - val_accuracy: 0.2600\n",
            "Epoch 67/1000\n",
            "100/100 [==============================] - 17s 167ms/step - loss: 1.1601 - accuracy: 0.5500 - val_loss: 1.7362 - val_accuracy: 0.2800\n",
            "Epoch 68/1000\n",
            "100/100 [==============================] - 15s 154ms/step - loss: 1.1725 - accuracy: 0.5470 - val_loss: 1.5200 - val_accuracy: 0.3600\n",
            "Epoch 69/1000\n",
            "100/100 [==============================] - 15s 154ms/step - loss: 1.1749 - accuracy: 0.5340 - val_loss: 1.6078 - val_accuracy: 0.3100\n",
            "Epoch 70/1000\n",
            "100/100 [==============================] - 16s 155ms/step - loss: 1.1770 - accuracy: 0.5470 - val_loss: 1.7927 - val_accuracy: 0.3100\n",
            "Epoch 71/1000\n",
            "100/100 [==============================] - 15s 154ms/step - loss: 1.1750 - accuracy: 0.5470 - val_loss: 1.6778 - val_accuracy: 0.2800\n",
            "Epoch 72/1000\n",
            "100/100 [==============================] - 15s 154ms/step - loss: 1.1342 - accuracy: 0.5410 - val_loss: 1.7398 - val_accuracy: 0.3300\n",
            "Epoch 73/1000\n",
            "100/100 [==============================] - 16s 155ms/step - loss: 1.1546 - accuracy: 0.5250 - val_loss: 1.6617 - val_accuracy: 0.3000\n",
            "Epoch 74/1000\n",
            "100/100 [==============================] - 16s 155ms/step - loss: 1.1600 - accuracy: 0.5460 - val_loss: 1.5760 - val_accuracy: 0.4200\n",
            "Epoch 75/1000\n",
            "100/100 [==============================] - 16s 156ms/step - loss: 1.1936 - accuracy: 0.5230 - val_loss: 1.6317 - val_accuracy: 0.2900\n",
            "Epoch 76/1000\n",
            "100/100 [==============================] - 16s 157ms/step - loss: 1.1791 - accuracy: 0.5360 - val_loss: 1.6224 - val_accuracy: 0.3800\n",
            "Epoch 77/1000\n",
            "100/100 [==============================] - 16s 155ms/step - loss: 1.1729 - accuracy: 0.5460 - val_loss: 1.6312 - val_accuracy: 0.3000\n",
            "Epoch 78/1000\n",
            "100/100 [==============================] - 16s 156ms/step - loss: 1.1815 - accuracy: 0.5280 - val_loss: 1.8329 - val_accuracy: 0.2600\n",
            "Epoch 79/1000\n",
            "100/100 [==============================] - 16s 158ms/step - loss: 1.1690 - accuracy: 0.5420 - val_loss: 1.5614 - val_accuracy: 0.3900\n",
            "Epoch 80/1000\n",
            "100/100 [==============================] - 16s 161ms/step - loss: 1.1642 - accuracy: 0.5430 - val_loss: 1.6686 - val_accuracy: 0.3700\n",
            "Epoch 81/1000\n",
            "100/100 [==============================] - 17s 167ms/step - loss: 1.1182 - accuracy: 0.5660 - val_loss: 1.8509 - val_accuracy: 0.2700\n",
            "Epoch 82/1000\n",
            "100/100 [==============================] - 16s 158ms/step - loss: 1.1224 - accuracy: 0.5690 - val_loss: 1.6243 - val_accuracy: 0.3700\n",
            "Epoch 83/1000\n",
            "100/100 [==============================] - 16s 158ms/step - loss: 1.1304 - accuracy: 0.5570 - val_loss: 1.6026 - val_accuracy: 0.3800\n",
            "Epoch 84/1000\n",
            "100/100 [==============================] - 16s 158ms/step - loss: 1.1627 - accuracy: 0.5470 - val_loss: 1.8153 - val_accuracy: 0.3200\n",
            "Epoch 85/1000\n",
            "100/100 [==============================] - 17s 170ms/step - loss: 1.1425 - accuracy: 0.5430 - val_loss: 1.7175 - val_accuracy: 0.3300\n",
            "Epoch 86/1000\n",
            "100/100 [==============================] - 16s 158ms/step - loss: 1.1626 - accuracy: 0.5440 - val_loss: 1.6751 - val_accuracy: 0.3400\n",
            "Epoch 87/1000\n",
            "100/100 [==============================] - 16s 157ms/step - loss: 1.1891 - accuracy: 0.5350 - val_loss: 1.6181 - val_accuracy: 0.3600\n",
            "Epoch 88/1000\n",
            "100/100 [==============================] - 16s 157ms/step - loss: 1.1349 - accuracy: 0.5560 - val_loss: 1.7632 - val_accuracy: 0.3300\n",
            "Epoch 89/1000\n",
            "100/100 [==============================] - 16s 156ms/step - loss: 1.1648 - accuracy: 0.5300 - val_loss: 1.6766 - val_accuracy: 0.3500\n",
            "Epoch 90/1000\n",
            "100/100 [==============================] - 16s 156ms/step - loss: 1.1252 - accuracy: 0.5590 - val_loss: 1.7126 - val_accuracy: 0.3300\n",
            "Epoch 91/1000\n",
            "100/100 [==============================] - 16s 156ms/step - loss: 1.1852 - accuracy: 0.5190 - val_loss: 1.7738 - val_accuracy: 0.3200\n",
            "Epoch 92/1000\n",
            "100/100 [==============================] - 16s 157ms/step - loss: 1.1318 - accuracy: 0.5510 - val_loss: 1.7214 - val_accuracy: 0.3500\n",
            "Epoch 93/1000\n",
            "100/100 [==============================] - 16s 158ms/step - loss: 1.1069 - accuracy: 0.5530 - val_loss: 1.5643 - val_accuracy: 0.3800\n",
            "Epoch 94/1000\n",
            "100/100 [==============================] - 16s 157ms/step - loss: 1.1099 - accuracy: 0.5760 - val_loss: 1.6172 - val_accuracy: 0.3700\n",
            "Epoch 95/1000\n",
            "100/100 [==============================] - 16s 157ms/step - loss: 1.1758 - accuracy: 0.5190 - val_loss: 1.7178 - val_accuracy: 0.2700\n",
            "Epoch 96/1000\n",
            "100/100 [==============================] - 16s 157ms/step - loss: 1.1150 - accuracy: 0.5760 - val_loss: 1.7625 - val_accuracy: 0.3600\n",
            "Epoch 97/1000\n",
            "100/100 [==============================] - 16s 156ms/step - loss: 1.1218 - accuracy: 0.5540 - val_loss: 1.8538 - val_accuracy: 0.3200\n",
            "Epoch 98/1000\n",
            "100/100 [==============================] - 16s 161ms/step - loss: 1.1143 - accuracy: 0.5450 - val_loss: 1.7060 - val_accuracy: 0.3400\n",
            "Epoch 99/1000\n",
            "100/100 [==============================] - 16s 157ms/step - loss: 1.1145 - accuracy: 0.5520 - val_loss: 1.5912 - val_accuracy: 0.3300\n",
            "Epoch 100/1000\n",
            "100/100 [==============================] - 16s 155ms/step - loss: 1.1277 - accuracy: 0.5560 - val_loss: 1.7580 - val_accuracy: 0.3100\n",
            "Epoch 101/1000\n",
            "100/100 [==============================] - 16s 157ms/step - loss: 1.1050 - accuracy: 0.5650 - val_loss: 1.6545 - val_accuracy: 0.3400\n",
            "Epoch 102/1000\n",
            "100/100 [==============================] - 16s 158ms/step - loss: 1.1067 - accuracy: 0.5480 - val_loss: 1.8383 - val_accuracy: 0.2900\n",
            "Epoch 103/1000\n",
            "100/100 [==============================] - 17s 170ms/step - loss: 1.0784 - accuracy: 0.5650 - val_loss: 1.6798 - val_accuracy: 0.3500\n",
            "Epoch 104/1000\n",
            "100/100 [==============================] - 16s 157ms/step - loss: 1.1065 - accuracy: 0.5740 - val_loss: 1.6209 - val_accuracy: 0.3600\n",
            "Epoch 105/1000\n",
            "100/100 [==============================] - 16s 157ms/step - loss: 1.1161 - accuracy: 0.5450 - val_loss: 1.6806 - val_accuracy: 0.4000\n",
            "Epoch 106/1000\n",
            "100/100 [==============================] - 16s 158ms/step - loss: 1.0638 - accuracy: 0.5930 - val_loss: 1.7450 - val_accuracy: 0.3800\n",
            "Epoch 107/1000\n",
            "100/100 [==============================] - 16s 157ms/step - loss: 1.1120 - accuracy: 0.5730 - val_loss: 1.7230 - val_accuracy: 0.3900\n",
            "Epoch 108/1000\n",
            "100/100 [==============================] - 16s 158ms/step - loss: 1.0845 - accuracy: 0.5830 - val_loss: 2.0412 - val_accuracy: 0.2500\n",
            "Epoch 109/1000\n",
            "100/100 [==============================] - 16s 156ms/step - loss: 1.0841 - accuracy: 0.5570 - val_loss: 1.6055 - val_accuracy: 0.3200\n",
            "Epoch 110/1000\n",
            "100/100 [==============================] - 16s 158ms/step - loss: 1.1181 - accuracy: 0.5410 - val_loss: 1.6830 - val_accuracy: 0.3400\n",
            "Epoch 111/1000\n",
            "100/100 [==============================] - 16s 157ms/step - loss: 1.0675 - accuracy: 0.5750 - val_loss: 1.9685 - val_accuracy: 0.2500\n",
            "Epoch 112/1000\n",
            "100/100 [==============================] - 16s 158ms/step - loss: 1.1270 - accuracy: 0.5520 - val_loss: 1.7599 - val_accuracy: 0.3600\n",
            "Epoch 113/1000\n",
            "100/100 [==============================] - 16s 157ms/step - loss: 1.1004 - accuracy: 0.5610 - val_loss: 1.4686 - val_accuracy: 0.4100\n",
            "Epoch 114/1000\n",
            "100/100 [==============================] - 16s 157ms/step - loss: 1.0711 - accuracy: 0.5500 - val_loss: 1.6032 - val_accuracy: 0.4000\n",
            "Epoch 115/1000\n",
            "100/100 [==============================] - 16s 162ms/step - loss: 1.0879 - accuracy: 0.5770 - val_loss: 1.7019 - val_accuracy: 0.3500\n",
            "Epoch 116/1000\n",
            "100/100 [==============================] - 16s 157ms/step - loss: 1.0671 - accuracy: 0.5980 - val_loss: 1.8336 - val_accuracy: 0.3200\n",
            "Epoch 117/1000\n",
            "100/100 [==============================] - 16s 158ms/step - loss: 1.1243 - accuracy: 0.5450 - val_loss: 1.7089 - val_accuracy: 0.2900\n",
            "Epoch 118/1000\n",
            "100/100 [==============================] - 16s 156ms/step - loss: 1.1178 - accuracy: 0.5560 - val_loss: 1.7605 - val_accuracy: 0.3400\n",
            "Epoch 119/1000\n",
            "100/100 [==============================] - 16s 157ms/step - loss: 1.0675 - accuracy: 0.5880 - val_loss: 1.8249 - val_accuracy: 0.2900\n",
            "Epoch 120/1000\n",
            "100/100 [==============================] - 17s 170ms/step - loss: 1.0677 - accuracy: 0.5870 - val_loss: 1.7737 - val_accuracy: 0.3600\n",
            "Epoch 121/1000\n",
            "100/100 [==============================] - 16s 156ms/step - loss: 1.0776 - accuracy: 0.5760 - val_loss: 1.6623 - val_accuracy: 0.3300\n",
            "Epoch 122/1000\n",
            "100/100 [==============================] - 16s 156ms/step - loss: 1.0383 - accuracy: 0.5970 - val_loss: 1.6673 - val_accuracy: 0.3800\n",
            "Epoch 123/1000\n",
            "100/100 [==============================] - 16s 158ms/step - loss: 1.0984 - accuracy: 0.5740 - val_loss: 1.8707 - val_accuracy: 0.2500\n",
            "Epoch 124/1000\n",
            "100/100 [==============================] - 16s 157ms/step - loss: 1.0972 - accuracy: 0.5770 - val_loss: 1.5858 - val_accuracy: 0.4100\n",
            "Epoch 125/1000\n",
            "100/100 [==============================] - 16s 158ms/step - loss: 1.0838 - accuracy: 0.5700 - val_loss: 1.7687 - val_accuracy: 0.3500\n",
            "Epoch 126/1000\n",
            "100/100 [==============================] - 16s 156ms/step - loss: 1.0482 - accuracy: 0.5840 - val_loss: 1.7707 - val_accuracy: 0.2300\n",
            "Epoch 127/1000\n",
            "100/100 [==============================] - 16s 158ms/step - loss: 1.1059 - accuracy: 0.5600 - val_loss: 1.8584 - val_accuracy: 0.2200\n",
            "Epoch 128/1000\n",
            "100/100 [==============================] - 16s 157ms/step - loss: 1.0513 - accuracy: 0.6040 - val_loss: 1.6231 - val_accuracy: 0.3900\n",
            "Epoch 129/1000\n",
            "100/100 [==============================] - 16s 157ms/step - loss: 1.0759 - accuracy: 0.5590 - val_loss: 1.8363 - val_accuracy: 0.3300\n",
            "Epoch 130/1000\n",
            "100/100 [==============================] - 16s 158ms/step - loss: 1.0445 - accuracy: 0.6010 - val_loss: 1.8409 - val_accuracy: 0.3700\n",
            "Epoch 131/1000\n",
            "100/100 [==============================] - 16s 157ms/step - loss: 1.0338 - accuracy: 0.5910 - val_loss: 1.6175 - val_accuracy: 0.4200\n",
            "Epoch 132/1000\n",
            "100/100 [==============================] - 16s 160ms/step - loss: 1.0735 - accuracy: 0.5600 - val_loss: 1.7842 - val_accuracy: 0.3700\n",
            "Epoch 133/1000\n",
            "100/100 [==============================] - 16s 157ms/step - loss: 1.0012 - accuracy: 0.6140 - val_loss: 1.8862 - val_accuracy: 0.3300\n",
            "Epoch 134/1000\n",
            "100/100 [==============================] - 16s 156ms/step - loss: 1.0423 - accuracy: 0.6070 - val_loss: 1.7935 - val_accuracy: 0.3700\n",
            "Epoch 135/1000\n",
            "100/100 [==============================] - 16s 156ms/step - loss: 1.0170 - accuracy: 0.5920 - val_loss: 1.7255 - val_accuracy: 0.4400\n",
            "Epoch 136/1000\n",
            "100/100 [==============================] - 16s 158ms/step - loss: 1.0299 - accuracy: 0.5850 - val_loss: 1.9114 - val_accuracy: 0.2900\n",
            "Epoch 137/1000\n",
            "100/100 [==============================] - 16s 159ms/step - loss: 1.0424 - accuracy: 0.5760 - val_loss: 1.7482 - val_accuracy: 0.2700\n",
            "Epoch 138/1000\n",
            "100/100 [==============================] - 17s 169ms/step - loss: 1.0572 - accuracy: 0.5900 - val_loss: 1.6110 - val_accuracy: 0.3500\n",
            "Epoch 139/1000\n",
            "100/100 [==============================] - 16s 158ms/step - loss: 1.0623 - accuracy: 0.5840 - val_loss: 1.7930 - val_accuracy: 0.2700\n",
            "Epoch 140/1000\n",
            "100/100 [==============================] - 16s 157ms/step - loss: 1.0116 - accuracy: 0.6040 - val_loss: 1.7071 - val_accuracy: 0.3800\n",
            "Epoch 141/1000\n",
            "100/100 [==============================] - 16s 157ms/step - loss: 1.0262 - accuracy: 0.5920 - val_loss: 1.8724 - val_accuracy: 0.3900\n",
            "Epoch 142/1000\n",
            "100/100 [==============================] - 16s 156ms/step - loss: 1.0112 - accuracy: 0.6050 - val_loss: 1.5610 - val_accuracy: 0.3500\n",
            "Epoch 143/1000\n",
            "100/100 [==============================] - 16s 157ms/step - loss: 1.0843 - accuracy: 0.5760 - val_loss: 1.7115 - val_accuracy: 0.3200\n",
            "Epoch 144/1000\n",
            "100/100 [==============================] - 16s 158ms/step - loss: 1.0363 - accuracy: 0.6080 - val_loss: 1.9024 - val_accuracy: 0.3200\n",
            "Epoch 145/1000\n",
            "100/100 [==============================] - 16s 157ms/step - loss: 1.0101 - accuracy: 0.6200 - val_loss: 1.5966 - val_accuracy: 0.3800\n",
            "Epoch 146/1000\n",
            "100/100 [==============================] - 16s 158ms/step - loss: 0.9993 - accuracy: 0.6130 - val_loss: 1.8821 - val_accuracy: 0.3400\n",
            "Epoch 147/1000\n",
            "100/100 [==============================] - 16s 157ms/step - loss: 1.0129 - accuracy: 0.5940 - val_loss: 1.6759 - val_accuracy: 0.3600\n",
            "Epoch 148/1000\n",
            "100/100 [==============================] - 16s 155ms/step - loss: 1.0315 - accuracy: 0.6050 - val_loss: 1.8157 - val_accuracy: 0.2900\n",
            "Epoch 149/1000\n",
            "100/100 [==============================] - 16s 159ms/step - loss: 1.0089 - accuracy: 0.5950 - val_loss: 1.8331 - val_accuracy: 0.3200\n",
            "Epoch 150/1000\n",
            "100/100 [==============================] - 16s 156ms/step - loss: 1.0227 - accuracy: 0.6050 - val_loss: 1.7520 - val_accuracy: 0.3800\n",
            "Epoch 151/1000\n",
            "100/100 [==============================] - 16s 156ms/step - loss: 1.0317 - accuracy: 0.6000 - val_loss: 1.8862 - val_accuracy: 0.3500\n",
            "Epoch 152/1000\n",
            " 22/100 [=====>........................] - ETA: 11s - loss: 1.0356 - accuracy: 0.5773"
          ]
        },
        {
          "ename": "KeyboardInterrupt",
          "evalue": "ignored",
          "output_type": "error",
          "traceback": [
            "\u001b[0;31m---------------------------------------------------------------------------\u001b[0m",
            "\u001b[0;31mKeyboardInterrupt\u001b[0m                         Traceback (most recent call last)",
            "\u001b[0;32m<ipython-input-14-76169ade40da>\u001b[0m in \u001b[0;36m<module>\u001b[0;34m()\u001b[0m\n\u001b[1;32m     23\u001b[0m        \u001b[0mepochs\u001b[0m\u001b[0;34m=\u001b[0m\u001b[0;36m1000\u001b[0m\u001b[0;34m,\u001b[0m\u001b[0;34m\u001b[0m\u001b[0;34m\u001b[0m\u001b[0m\n\u001b[1;32m     24\u001b[0m        \u001b[0mvalidation_data\u001b[0m\u001b[0;34m=\u001b[0m\u001b[0mtest_generator\u001b[0m\u001b[0;34m,\u001b[0m\u001b[0;34m\u001b[0m\u001b[0;34m\u001b[0m\u001b[0m\n\u001b[0;32m---> 25\u001b[0;31m        validation_steps=10)\n\u001b[0m",
            "\u001b[0;32m/usr/local/lib/python3.7/dist-packages/keras/engine/training.py\u001b[0m in \u001b[0;36mfit_generator\u001b[0;34m(self, generator, steps_per_epoch, epochs, verbose, callbacks, validation_data, validation_steps, validation_freq, class_weight, max_queue_size, workers, use_multiprocessing, shuffle, initial_epoch)\u001b[0m\n\u001b[1;32m   2221\u001b[0m         \u001b[0muse_multiprocessing\u001b[0m\u001b[0;34m=\u001b[0m\u001b[0muse_multiprocessing\u001b[0m\u001b[0;34m,\u001b[0m\u001b[0;34m\u001b[0m\u001b[0;34m\u001b[0m\u001b[0m\n\u001b[1;32m   2222\u001b[0m         \u001b[0mshuffle\u001b[0m\u001b[0;34m=\u001b[0m\u001b[0mshuffle\u001b[0m\u001b[0;34m,\u001b[0m\u001b[0;34m\u001b[0m\u001b[0;34m\u001b[0m\u001b[0m\n\u001b[0;32m-> 2223\u001b[0;31m         initial_epoch=initial_epoch)\n\u001b[0m\u001b[1;32m   2224\u001b[0m \u001b[0;34m\u001b[0m\u001b[0m\n\u001b[1;32m   2225\u001b[0m   \u001b[0;34m@\u001b[0m\u001b[0mdoc_controls\u001b[0m\u001b[0;34m.\u001b[0m\u001b[0mdo_not_generate_docs\u001b[0m\u001b[0;34m\u001b[0m\u001b[0;34m\u001b[0m\u001b[0m\n",
            "\u001b[0;32m/usr/local/lib/python3.7/dist-packages/keras/utils/traceback_utils.py\u001b[0m in \u001b[0;36merror_handler\u001b[0;34m(*args, **kwargs)\u001b[0m\n\u001b[1;32m     62\u001b[0m     \u001b[0mfiltered_tb\u001b[0m \u001b[0;34m=\u001b[0m \u001b[0;32mNone\u001b[0m\u001b[0;34m\u001b[0m\u001b[0;34m\u001b[0m\u001b[0m\n\u001b[1;32m     63\u001b[0m     \u001b[0;32mtry\u001b[0m\u001b[0;34m:\u001b[0m\u001b[0;34m\u001b[0m\u001b[0;34m\u001b[0m\u001b[0m\n\u001b[0;32m---> 64\u001b[0;31m       \u001b[0;32mreturn\u001b[0m \u001b[0mfn\u001b[0m\u001b[0;34m(\u001b[0m\u001b[0;34m*\u001b[0m\u001b[0margs\u001b[0m\u001b[0;34m,\u001b[0m \u001b[0;34m**\u001b[0m\u001b[0mkwargs\u001b[0m\u001b[0;34m)\u001b[0m\u001b[0;34m\u001b[0m\u001b[0;34m\u001b[0m\u001b[0m\n\u001b[0m\u001b[1;32m     65\u001b[0m     \u001b[0;32mexcept\u001b[0m \u001b[0mException\u001b[0m \u001b[0;32mas\u001b[0m \u001b[0me\u001b[0m\u001b[0;34m:\u001b[0m  \u001b[0;31m# pylint: disable=broad-except\u001b[0m\u001b[0;34m\u001b[0m\u001b[0;34m\u001b[0m\u001b[0m\n\u001b[1;32m     66\u001b[0m       \u001b[0mfiltered_tb\u001b[0m \u001b[0;34m=\u001b[0m \u001b[0m_process_traceback_frames\u001b[0m\u001b[0;34m(\u001b[0m\u001b[0me\u001b[0m\u001b[0;34m.\u001b[0m\u001b[0m__traceback__\u001b[0m\u001b[0;34m)\u001b[0m\u001b[0;34m\u001b[0m\u001b[0;34m\u001b[0m\u001b[0m\n",
            "\u001b[0;32m/usr/local/lib/python3.7/dist-packages/keras/engine/training.py\u001b[0m in \u001b[0;36mfit\u001b[0;34m(self, x, y, batch_size, epochs, verbose, callbacks, validation_split, validation_data, shuffle, class_weight, sample_weight, initial_epoch, steps_per_epoch, validation_steps, validation_batch_size, validation_freq, max_queue_size, workers, use_multiprocessing)\u001b[0m\n\u001b[1;32m   1382\u001b[0m                 _r=1):\n\u001b[1;32m   1383\u001b[0m               \u001b[0mcallbacks\u001b[0m\u001b[0;34m.\u001b[0m\u001b[0mon_train_batch_begin\u001b[0m\u001b[0;34m(\u001b[0m\u001b[0mstep\u001b[0m\u001b[0;34m)\u001b[0m\u001b[0;34m\u001b[0m\u001b[0;34m\u001b[0m\u001b[0m\n\u001b[0;32m-> 1384\u001b[0;31m               \u001b[0mtmp_logs\u001b[0m \u001b[0;34m=\u001b[0m \u001b[0mself\u001b[0m\u001b[0;34m.\u001b[0m\u001b[0mtrain_function\u001b[0m\u001b[0;34m(\u001b[0m\u001b[0miterator\u001b[0m\u001b[0;34m)\u001b[0m\u001b[0;34m\u001b[0m\u001b[0;34m\u001b[0m\u001b[0m\n\u001b[0m\u001b[1;32m   1385\u001b[0m               \u001b[0;32mif\u001b[0m \u001b[0mdata_handler\u001b[0m\u001b[0;34m.\u001b[0m\u001b[0mshould_sync\u001b[0m\u001b[0;34m:\u001b[0m\u001b[0;34m\u001b[0m\u001b[0;34m\u001b[0m\u001b[0m\n\u001b[1;32m   1386\u001b[0m                 \u001b[0mcontext\u001b[0m\u001b[0;34m.\u001b[0m\u001b[0masync_wait\u001b[0m\u001b[0;34m(\u001b[0m\u001b[0;34m)\u001b[0m\u001b[0;34m\u001b[0m\u001b[0;34m\u001b[0m\u001b[0m\n",
            "\u001b[0;32m/usr/local/lib/python3.7/dist-packages/tensorflow/python/util/traceback_utils.py\u001b[0m in \u001b[0;36merror_handler\u001b[0;34m(*args, **kwargs)\u001b[0m\n\u001b[1;32m    148\u001b[0m     \u001b[0mfiltered_tb\u001b[0m \u001b[0;34m=\u001b[0m \u001b[0;32mNone\u001b[0m\u001b[0;34m\u001b[0m\u001b[0;34m\u001b[0m\u001b[0m\n\u001b[1;32m    149\u001b[0m     \u001b[0;32mtry\u001b[0m\u001b[0;34m:\u001b[0m\u001b[0;34m\u001b[0m\u001b[0;34m\u001b[0m\u001b[0m\n\u001b[0;32m--> 150\u001b[0;31m       \u001b[0;32mreturn\u001b[0m \u001b[0mfn\u001b[0m\u001b[0;34m(\u001b[0m\u001b[0;34m*\u001b[0m\u001b[0margs\u001b[0m\u001b[0;34m,\u001b[0m \u001b[0;34m**\u001b[0m\u001b[0mkwargs\u001b[0m\u001b[0;34m)\u001b[0m\u001b[0;34m\u001b[0m\u001b[0;34m\u001b[0m\u001b[0m\n\u001b[0m\u001b[1;32m    151\u001b[0m     \u001b[0;32mexcept\u001b[0m \u001b[0mException\u001b[0m \u001b[0;32mas\u001b[0m \u001b[0me\u001b[0m\u001b[0;34m:\u001b[0m\u001b[0;34m\u001b[0m\u001b[0;34m\u001b[0m\u001b[0m\n\u001b[1;32m    152\u001b[0m       \u001b[0mfiltered_tb\u001b[0m \u001b[0;34m=\u001b[0m \u001b[0m_process_traceback_frames\u001b[0m\u001b[0;34m(\u001b[0m\u001b[0me\u001b[0m\u001b[0;34m.\u001b[0m\u001b[0m__traceback__\u001b[0m\u001b[0;34m)\u001b[0m\u001b[0;34m\u001b[0m\u001b[0;34m\u001b[0m\u001b[0m\n",
            "\u001b[0;32m/usr/local/lib/python3.7/dist-packages/tensorflow/python/eager/def_function.py\u001b[0m in \u001b[0;36m__call__\u001b[0;34m(self, *args, **kwds)\u001b[0m\n\u001b[1;32m    913\u001b[0m \u001b[0;34m\u001b[0m\u001b[0m\n\u001b[1;32m    914\u001b[0m       \u001b[0;32mwith\u001b[0m \u001b[0mOptionalXlaContext\u001b[0m\u001b[0;34m(\u001b[0m\u001b[0mself\u001b[0m\u001b[0;34m.\u001b[0m\u001b[0m_jit_compile\u001b[0m\u001b[0;34m)\u001b[0m\u001b[0;34m:\u001b[0m\u001b[0;34m\u001b[0m\u001b[0;34m\u001b[0m\u001b[0m\n\u001b[0;32m--> 915\u001b[0;31m         \u001b[0mresult\u001b[0m \u001b[0;34m=\u001b[0m \u001b[0mself\u001b[0m\u001b[0;34m.\u001b[0m\u001b[0m_call\u001b[0m\u001b[0;34m(\u001b[0m\u001b[0;34m*\u001b[0m\u001b[0margs\u001b[0m\u001b[0;34m,\u001b[0m \u001b[0;34m**\u001b[0m\u001b[0mkwds\u001b[0m\u001b[0;34m)\u001b[0m\u001b[0;34m\u001b[0m\u001b[0;34m\u001b[0m\u001b[0m\n\u001b[0m\u001b[1;32m    916\u001b[0m \u001b[0;34m\u001b[0m\u001b[0m\n\u001b[1;32m    917\u001b[0m       \u001b[0mnew_tracing_count\u001b[0m \u001b[0;34m=\u001b[0m \u001b[0mself\u001b[0m\u001b[0;34m.\u001b[0m\u001b[0mexperimental_get_tracing_count\u001b[0m\u001b[0;34m(\u001b[0m\u001b[0;34m)\u001b[0m\u001b[0;34m\u001b[0m\u001b[0;34m\u001b[0m\u001b[0m\n",
            "\u001b[0;32m/usr/local/lib/python3.7/dist-packages/tensorflow/python/eager/def_function.py\u001b[0m in \u001b[0;36m_call\u001b[0;34m(self, *args, **kwds)\u001b[0m\n\u001b[1;32m    945\u001b[0m       \u001b[0;31m# In this case we have created variables on the first call, so we run the\u001b[0m\u001b[0;34m\u001b[0m\u001b[0;34m\u001b[0m\u001b[0;34m\u001b[0m\u001b[0m\n\u001b[1;32m    946\u001b[0m       \u001b[0;31m# defunned version which is guaranteed to never create variables.\u001b[0m\u001b[0;34m\u001b[0m\u001b[0;34m\u001b[0m\u001b[0;34m\u001b[0m\u001b[0m\n\u001b[0;32m--> 947\u001b[0;31m       \u001b[0;32mreturn\u001b[0m \u001b[0mself\u001b[0m\u001b[0;34m.\u001b[0m\u001b[0m_stateless_fn\u001b[0m\u001b[0;34m(\u001b[0m\u001b[0;34m*\u001b[0m\u001b[0margs\u001b[0m\u001b[0;34m,\u001b[0m \u001b[0;34m**\u001b[0m\u001b[0mkwds\u001b[0m\u001b[0;34m)\u001b[0m  \u001b[0;31m# pylint: disable=not-callable\u001b[0m\u001b[0;34m\u001b[0m\u001b[0;34m\u001b[0m\u001b[0m\n\u001b[0m\u001b[1;32m    948\u001b[0m     \u001b[0;32melif\u001b[0m \u001b[0mself\u001b[0m\u001b[0;34m.\u001b[0m\u001b[0m_stateful_fn\u001b[0m \u001b[0;32mis\u001b[0m \u001b[0;32mnot\u001b[0m \u001b[0;32mNone\u001b[0m\u001b[0;34m:\u001b[0m\u001b[0;34m\u001b[0m\u001b[0;34m\u001b[0m\u001b[0m\n\u001b[1;32m    949\u001b[0m       \u001b[0;31m# Release the lock early so that multiple threads can perform the call\u001b[0m\u001b[0;34m\u001b[0m\u001b[0;34m\u001b[0m\u001b[0;34m\u001b[0m\u001b[0m\n",
            "\u001b[0;32m/usr/local/lib/python3.7/dist-packages/tensorflow/python/eager/function.py\u001b[0m in \u001b[0;36m__call__\u001b[0;34m(self, *args, **kwargs)\u001b[0m\n\u001b[1;32m   2955\u001b[0m        filtered_flat_args) = self._maybe_define_function(args, kwargs)\n\u001b[1;32m   2956\u001b[0m     return graph_function._call_flat(\n\u001b[0;32m-> 2957\u001b[0;31m         filtered_flat_args, captured_inputs=graph_function.captured_inputs)  # pylint: disable=protected-access\n\u001b[0m\u001b[1;32m   2958\u001b[0m \u001b[0;34m\u001b[0m\u001b[0m\n\u001b[1;32m   2959\u001b[0m   \u001b[0;34m@\u001b[0m\u001b[0mproperty\u001b[0m\u001b[0;34m\u001b[0m\u001b[0;34m\u001b[0m\u001b[0m\n",
            "\u001b[0;32m/usr/local/lib/python3.7/dist-packages/tensorflow/python/eager/function.py\u001b[0m in \u001b[0;36m_call_flat\u001b[0;34m(self, args, captured_inputs, cancellation_manager)\u001b[0m\n\u001b[1;32m   1852\u001b[0m       \u001b[0;31m# No tape is watching; skip to running the function.\u001b[0m\u001b[0;34m\u001b[0m\u001b[0;34m\u001b[0m\u001b[0;34m\u001b[0m\u001b[0m\n\u001b[1;32m   1853\u001b[0m       return self._build_call_outputs(self._inference_function.call(\n\u001b[0;32m-> 1854\u001b[0;31m           ctx, args, cancellation_manager=cancellation_manager))\n\u001b[0m\u001b[1;32m   1855\u001b[0m     forward_backward = self._select_forward_and_backward_functions(\n\u001b[1;32m   1856\u001b[0m         \u001b[0margs\u001b[0m\u001b[0;34m,\u001b[0m\u001b[0;34m\u001b[0m\u001b[0;34m\u001b[0m\u001b[0m\n",
            "\u001b[0;32m/usr/local/lib/python3.7/dist-packages/tensorflow/python/eager/function.py\u001b[0m in \u001b[0;36mcall\u001b[0;34m(self, ctx, args, cancellation_manager)\u001b[0m\n\u001b[1;32m    502\u001b[0m               \u001b[0minputs\u001b[0m\u001b[0;34m=\u001b[0m\u001b[0margs\u001b[0m\u001b[0;34m,\u001b[0m\u001b[0;34m\u001b[0m\u001b[0;34m\u001b[0m\u001b[0m\n\u001b[1;32m    503\u001b[0m               \u001b[0mattrs\u001b[0m\u001b[0;34m=\u001b[0m\u001b[0mattrs\u001b[0m\u001b[0;34m,\u001b[0m\u001b[0;34m\u001b[0m\u001b[0;34m\u001b[0m\u001b[0m\n\u001b[0;32m--> 504\u001b[0;31m               ctx=ctx)\n\u001b[0m\u001b[1;32m    505\u001b[0m         \u001b[0;32melse\u001b[0m\u001b[0;34m:\u001b[0m\u001b[0;34m\u001b[0m\u001b[0;34m\u001b[0m\u001b[0m\n\u001b[1;32m    506\u001b[0m           outputs = execute.execute_with_cancellation(\n",
            "\u001b[0;32m/usr/local/lib/python3.7/dist-packages/tensorflow/python/eager/execute.py\u001b[0m in \u001b[0;36mquick_execute\u001b[0;34m(op_name, num_outputs, inputs, attrs, ctx, name)\u001b[0m\n\u001b[1;32m     53\u001b[0m     \u001b[0mctx\u001b[0m\u001b[0;34m.\u001b[0m\u001b[0mensure_initialized\u001b[0m\u001b[0;34m(\u001b[0m\u001b[0;34m)\u001b[0m\u001b[0;34m\u001b[0m\u001b[0;34m\u001b[0m\u001b[0m\n\u001b[1;32m     54\u001b[0m     tensors = pywrap_tfe.TFE_Py_Execute(ctx._handle, device_name, op_name,\n\u001b[0;32m---> 55\u001b[0;31m                                         inputs, attrs, num_outputs)\n\u001b[0m\u001b[1;32m     56\u001b[0m   \u001b[0;32mexcept\u001b[0m \u001b[0mcore\u001b[0m\u001b[0;34m.\u001b[0m\u001b[0m_NotOkStatusException\u001b[0m \u001b[0;32mas\u001b[0m \u001b[0me\u001b[0m\u001b[0;34m:\u001b[0m\u001b[0;34m\u001b[0m\u001b[0;34m\u001b[0m\u001b[0m\n\u001b[1;32m     57\u001b[0m     \u001b[0;32mif\u001b[0m \u001b[0mname\u001b[0m \u001b[0;32mis\u001b[0m \u001b[0;32mnot\u001b[0m \u001b[0;32mNone\u001b[0m\u001b[0;34m:\u001b[0m\u001b[0;34m\u001b[0m\u001b[0;34m\u001b[0m\u001b[0m\n",
            "\u001b[0;31mKeyboardInterrupt\u001b[0m: "
          ]
        }
      ]
    },
    {
      "cell_type": "code",
      "source": [],
      "metadata": {
        "id": "IkWVa2Teguky"
      },
      "execution_count": null,
      "outputs": []
    }
  ],
  "metadata": {
    "accelerator": "GPU",
    "colab": {
      "provenance": [],
      "include_colab_link": true
    },
    "kernelspec": {
      "display_name": "Python 3",
      "language": "python",
      "name": "python3"
    },
    "language_info": {
      "codemirror_mode": {
        "name": "ipython",
        "version": 3
      },
      "file_extension": ".py",
      "mimetype": "text/x-python",
      "name": "python",
      "nbconvert_exporter": "python",
      "pygments_lexer": "ipython3",
      "version": "3.8.5"
    },
    "toc": {
      "base_numbering": 1,
      "nav_menu": {},
      "number_sections": false,
      "sideBar": true,
      "skip_h1_title": false,
      "title_cell": "Table of Contents",
      "title_sidebar": "Contents",
      "toc_cell": false,
      "toc_position": {},
      "toc_section_display": true,
      "toc_window_display": false
    },
    "gpuClass": "standard"
  },
  "nbformat": 4,
  "nbformat_minor": 0
}