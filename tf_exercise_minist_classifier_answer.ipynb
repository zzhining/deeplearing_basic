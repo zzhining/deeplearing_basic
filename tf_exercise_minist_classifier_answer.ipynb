{
  "cells": [
    {
      "cell_type": "markdown",
      "metadata": {
        "id": "view-in-github",
        "colab_type": "text"
      },
      "source": [
        "<a href=\"https://colab.research.google.com/github/zzhining/deeplearing_basic/blob/main/tf_exercise_minist_classifier_answer.ipynb\" target=\"_parent\"><img src=\"https://colab.research.google.com/assets/colab-badge.svg\" alt=\"Open In Colab\"/></a>"
      ]
    },
    {
      "cell_type": "markdown",
      "metadata": {
        "id": "2qh3qHQNX5uc"
      },
      "source": [
        "# Basic 신경망"
      ]
    },
    {
      "cell_type": "code",
      "execution_count": null,
      "metadata": {
        "id": "916sv1eP_qd2"
      },
      "outputs": [],
      "source": [
        "from keras.datasets import mnist\n",
        "from keras.utils import np_utils\n",
        "from keras.models import Sequential\n",
        "from keras.layers import Dense\n",
        "from keras.callbacks import ModelCheckpoint,EarlyStopping\n",
        "\n",
        "import matplotlib.pyplot as plt\n",
        "import numpy\n",
        "import os\n",
        "import tensorflow as tf\n",
        "\n",
        "# seed 값 설정\n",
        "seed = 0\n",
        "numpy.random.seed(seed)\n",
        "tf.random.set_seed(3)\n",
        "\n",
        "# MNIST 데이터 불러오기\n",
        "(X_train, Y_train), (X_test, Y_test) = mnist.load_data()"
      ]
    },
    {
      "cell_type": "markdown",
      "metadata": {
        "id": "Ybze6UZ6uwoj"
      },
      "source": [
        "### Q1.\n",
        "\n",
        "2D 이미지를 1D 형태로 변환하여 입력하려고 합니다. 그리고 0 ~ 1 사이의 값을 갖도록 스케일을 조절하려고 합니다.\n",
        "\n",
        "X_train과 X_test 값을 올바르게 설정하세요. \n",
        "\n",
        "\n",
        " (Tip)\n",
        "  reshape, astype 사용\n"
      ]
    },
    {
      "cell_type": "code",
      "source": [
        "X_train.shape[1] * X_train.shape[2]"
      ],
      "metadata": {
        "colab": {
          "base_uri": "https://localhost:8080/"
        },
        "id": "0KMdbPq8fufr",
        "outputId": "081c7e1a-d873-496b-ae06-c2562a29c419"
      },
      "execution_count": null,
      "outputs": [
        {
          "output_type": "execute_result",
          "data": {
            "text/plain": [
              "784"
            ]
          },
          "metadata": {},
          "execution_count": 20
        }
      ]
    },
    {
      "cell_type": "code",
      "execution_count": null,
      "metadata": {
        "id": "A2duLKGuutMD"
      },
      "outputs": [],
      "source": [
        "# X_train = # 작성하세요\n",
        "# X_test = # 작성하세요\n",
        "\n",
        "X_train = X_train.reshape(X_train.shape[0], 784).astype('float32') / 255\n",
        "X_test = X_test.reshape(X_test.shape[0], 784).astype('float32') / 255\n"
      ]
    },
    {
      "cell_type": "code",
      "source": [
        "X_train.shape"
      ],
      "metadata": {
        "colab": {
          "base_uri": "https://localhost:8080/"
        },
        "id": "aNyAVAVJgEch",
        "outputId": "5d487665-b084-4962-f079-b29448ed2ae4"
      },
      "execution_count": null,
      "outputs": [
        {
          "output_type": "execute_result",
          "data": {
            "text/plain": [
              "(60000, 784)"
            ]
          },
          "metadata": {},
          "execution_count": 22
        }
      ]
    },
    {
      "cell_type": "markdown",
      "metadata": {
        "id": "myPGm53tX5u3"
      },
      "source": [
        "### Q2.\n",
        "Y_train과 Y_test를 원핫인코딩을 사용하여 설정하세요.\n",
        " (Tip)\n",
        "  to_categorical()"
      ]
    },
    {
      "cell_type": "code",
      "execution_count": null,
      "metadata": {
        "id": "yuAcLWv-vZne"
      },
      "outputs": [],
      "source": [
        "# Y_train = # 작성하세요\n",
        "# Y_test = # 작성하세요\n",
        "Y_train = np_utils.to_categorical(Y_train, num_classes=10)\n",
        "Y_test = np_utils.to_categorical(Y_test, num_classes=10)"
      ]
    },
    {
      "cell_type": "markdown",
      "metadata": {
        "id": "EibUBnFPX5u7"
      },
      "source": [
        "### Q3.\n",
        "하나의 은닉층(노드 수는 512개)을 갖는 인공신경망을 설계하세요.\n",
        " (Tip)\n",
        "  model.add()\n",
        "  Dense() "
      ]
    },
    {
      "cell_type": "code",
      "execution_count": null,
      "metadata": {
        "id": "U0I7GkcJX5u9"
      },
      "outputs": [],
      "source": [
        "# 모델 프레임 설정\n",
        "model = Sequential()\n",
        "# 작성하세요\n",
        "model.add(Dense(512, input_dim=784, activation='relu'))\n",
        "model.add(Dense(10, activation='softmax'))"
      ]
    },
    {
      "cell_type": "markdown",
      "metadata": {
        "id": "oUjGVeyZX5u-"
      },
      "source": [
        "### Q4. \n",
        "모델 실행 환경을 설정하세요.\n",
        " (TIp) model.compile()"
      ]
    },
    {
      "cell_type": "code",
      "execution_count": null,
      "metadata": {
        "id": "ZBXmpQtaX5vA"
      },
      "outputs": [],
      "source": [
        "# 작성하세요\n",
        "model.compile(loss='categorical_crossentropy',\n",
        "              optimizer='adam',\n",
        "              metrics=['accuracy'])"
      ]
    },
    {
      "cell_type": "code",
      "execution_count": null,
      "metadata": {
        "id": "_9YixRNHX5vC"
      },
      "outputs": [],
      "source": [
        "# 모델 최적화 설정\n",
        "MODEL_DIR = './model/'\n",
        "if not os.path.exists(MODEL_DIR):\n",
        "    os.mkdir(MODEL_DIR)\n",
        "\n",
        "modelpath=\"./model/{epoch:02d}-{val_loss:.4f}.hdf5\"\n",
        "checkpointer = ModelCheckpoint(filepath=modelpath, monitor='val_loss', verbose=1, save_best_only=True)\n",
        "early_stopping_callback = EarlyStopping(monitor='val_loss', patience=10)"
      ]
    },
    {
      "cell_type": "markdown",
      "metadata": {
        "id": "TUKP9655X5vD"
      },
      "source": [
        "### Q5.\n",
        "모델 학습을 수행하세요. \n",
        "- 검증용 데이터는 Validation 데이터로 설정\n",
        "- epochs 은 30, batch_size는 200, callback 설정"
      ]
    },
    {
      "cell_type": "code",
      "execution_count": null,
      "metadata": {
        "colab": {
          "base_uri": "https://localhost:8080/"
        },
        "id": "rVI0ySU7X5vE",
        "outputId": "423af780-c1fc-43a8-dd58-4c8b1cc00d68"
      },
      "outputs": [
        {
          "output_type": "stream",
          "name": "stdout",
          "text": [
            "Epoch 1/30\n",
            "294/300 [============================>.] - ETA: 0s - loss: 0.3049 - accuracy: 0.9142\n",
            "Epoch 1: val_loss improved from inf to 0.14736, saving model to ./model/01-0.1474.hdf5\n",
            "300/300 [==============================] - 5s 5ms/step - loss: 0.3028 - accuracy: 0.9149 - val_loss: 0.1474 - val_accuracy: 0.9572\n",
            "Epoch 2/30\n",
            "288/300 [===========================>..] - ETA: 0s - loss: 0.1252 - accuracy: 0.9630\n",
            "Epoch 2: val_loss improved from 0.14736 to 0.10193, saving model to ./model/02-0.1019.hdf5\n",
            "300/300 [==============================] - 1s 3ms/step - loss: 0.1236 - accuracy: 0.9635 - val_loss: 0.1019 - val_accuracy: 0.9686\n",
            "Epoch 3/30\n",
            "296/300 [============================>.] - ETA: 0s - loss: 0.0810 - accuracy: 0.9768\n",
            "Epoch 3: val_loss improved from 0.10193 to 0.08914, saving model to ./model/03-0.0891.hdf5\n",
            "300/300 [==============================] - 1s 3ms/step - loss: 0.0810 - accuracy: 0.9768 - val_loss: 0.0891 - val_accuracy: 0.9720\n",
            "Epoch 4/30\n",
            "282/300 [===========================>..] - ETA: 0s - loss: 0.0602 - accuracy: 0.9824\n",
            "Epoch 4: val_loss improved from 0.08914 to 0.07865, saving model to ./model/04-0.0786.hdf5\n",
            "300/300 [==============================] - 1s 3ms/step - loss: 0.0600 - accuracy: 0.9825 - val_loss: 0.0786 - val_accuracy: 0.9758\n",
            "Epoch 5/30\n",
            "298/300 [============================>.] - ETA: 0s - loss: 0.0450 - accuracy: 0.9871\n",
            "Epoch 5: val_loss improved from 0.07865 to 0.07467, saving model to ./model/05-0.0747.hdf5\n",
            "300/300 [==============================] - 1s 3ms/step - loss: 0.0450 - accuracy: 0.9872 - val_loss: 0.0747 - val_accuracy: 0.9766\n",
            "Epoch 6/30\n",
            "297/300 [============================>.] - ETA: 0s - loss: 0.0346 - accuracy: 0.9901\n",
            "Epoch 6: val_loss improved from 0.07467 to 0.06647, saving model to ./model/06-0.0665.hdf5\n",
            "300/300 [==============================] - 1s 3ms/step - loss: 0.0346 - accuracy: 0.9901 - val_loss: 0.0665 - val_accuracy: 0.9788\n",
            "Epoch 7/30\n",
            "289/300 [===========================>..] - ETA: 0s - loss: 0.0260 - accuracy: 0.9933\n",
            "Epoch 7: val_loss improved from 0.06647 to 0.06562, saving model to ./model/07-0.0656.hdf5\n",
            "300/300 [==============================] - 1s 3ms/step - loss: 0.0266 - accuracy: 0.9931 - val_loss: 0.0656 - val_accuracy: 0.9799\n",
            "Epoch 8/30\n",
            "299/300 [============================>.] - ETA: 0s - loss: 0.0213 - accuracy: 0.9944\n",
            "Epoch 8: val_loss improved from 0.06562 to 0.06248, saving model to ./model/08-0.0625.hdf5\n",
            "300/300 [==============================] - 1s 3ms/step - loss: 0.0213 - accuracy: 0.9944 - val_loss: 0.0625 - val_accuracy: 0.9807\n",
            "Epoch 9/30\n",
            "292/300 [============================>.] - ETA: 0s - loss: 0.0155 - accuracy: 0.9966\n",
            "Epoch 9: val_loss did not improve from 0.06248\n",
            "300/300 [==============================] - 1s 3ms/step - loss: 0.0155 - accuracy: 0.9966 - val_loss: 0.0625 - val_accuracy: 0.9797\n",
            "Epoch 10/30\n",
            "295/300 [============================>.] - ETA: 0s - loss: 0.0118 - accuracy: 0.9977\n",
            "Epoch 10: val_loss did not improve from 0.06248\n",
            "300/300 [==============================] - 1s 3ms/step - loss: 0.0118 - accuracy: 0.9977 - val_loss: 0.0631 - val_accuracy: 0.9810\n",
            "Epoch 11/30\n",
            "289/300 [===========================>..] - ETA: 0s - loss: 0.0098 - accuracy: 0.9982\n",
            "Epoch 11: val_loss did not improve from 0.06248\n",
            "300/300 [==============================] - 1s 3ms/step - loss: 0.0099 - accuracy: 0.9981 - val_loss: 0.0669 - val_accuracy: 0.9794\n",
            "Epoch 12/30\n",
            "283/300 [===========================>..] - ETA: 0s - loss: 0.0073 - accuracy: 0.9989\n",
            "Epoch 12: val_loss did not improve from 0.06248\n",
            "300/300 [==============================] - 1s 3ms/step - loss: 0.0075 - accuracy: 0.9988 - val_loss: 0.0698 - val_accuracy: 0.9793\n",
            "Epoch 13/30\n",
            "287/300 [===========================>..] - ETA: 0s - loss: 0.0056 - accuracy: 0.9993\n",
            "Epoch 13: val_loss improved from 0.06248 to 0.05869, saving model to ./model/13-0.0587.hdf5\n",
            "300/300 [==============================] - 1s 3ms/step - loss: 0.0056 - accuracy: 0.9993 - val_loss: 0.0587 - val_accuracy: 0.9825\n",
            "Epoch 14/30\n",
            "288/300 [===========================>..] - ETA: 0s - loss: 0.0040 - accuracy: 0.9995\n",
            "Epoch 14: val_loss did not improve from 0.05869\n",
            "300/300 [==============================] - 1s 3ms/step - loss: 0.0041 - accuracy: 0.9995 - val_loss: 0.0659 - val_accuracy: 0.9816\n",
            "Epoch 15/30\n",
            "284/300 [===========================>..] - ETA: 0s - loss: 0.0040 - accuracy: 0.9994\n",
            "Epoch 15: val_loss did not improve from 0.05869\n",
            "300/300 [==============================] - 1s 3ms/step - loss: 0.0041 - accuracy: 0.9994 - val_loss: 0.0729 - val_accuracy: 0.9797\n",
            "Epoch 16/30\n",
            "286/300 [===========================>..] - ETA: 0s - loss: 0.0034 - accuracy: 0.9997\n",
            "Epoch 16: val_loss did not improve from 0.05869\n",
            "300/300 [==============================] - 1s 3ms/step - loss: 0.0034 - accuracy: 0.9996 - val_loss: 0.0677 - val_accuracy: 0.9809\n",
            "Epoch 17/30\n",
            "282/300 [===========================>..] - ETA: 0s - loss: 0.0022 - accuracy: 0.9999\n",
            "Epoch 17: val_loss did not improve from 0.05869\n",
            "300/300 [==============================] - 1s 3ms/step - loss: 0.0022 - accuracy: 0.9999 - val_loss: 0.0675 - val_accuracy: 0.9815\n",
            "Epoch 18/30\n",
            "290/300 [============================>.] - ETA: 0s - loss: 0.0016 - accuracy: 0.9999\n",
            "Epoch 18: val_loss did not improve from 0.05869\n",
            "300/300 [==============================] - 1s 3ms/step - loss: 0.0016 - accuracy: 0.9999 - val_loss: 0.0649 - val_accuracy: 0.9818\n",
            "Epoch 19/30\n",
            "298/300 [============================>.] - ETA: 0s - loss: 0.0020 - accuracy: 0.9997\n",
            "Epoch 19: val_loss did not improve from 0.05869\n",
            "300/300 [==============================] - 1s 3ms/step - loss: 0.0020 - accuracy: 0.9997 - val_loss: 0.0898 - val_accuracy: 0.9754\n",
            "Epoch 20/30\n",
            "288/300 [===========================>..] - ETA: 0s - loss: 0.0190 - accuracy: 0.9933\n",
            "Epoch 20: val_loss did not improve from 0.05869\n",
            "300/300 [==============================] - 1s 3ms/step - loss: 0.0187 - accuracy: 0.9934 - val_loss: 0.0807 - val_accuracy: 0.9792\n",
            "Epoch 21/30\n",
            "292/300 [============================>.] - ETA: 0s - loss: 0.0055 - accuracy: 0.9986\n",
            "Epoch 21: val_loss did not improve from 0.05869\n",
            "300/300 [==============================] - 1s 3ms/step - loss: 0.0055 - accuracy: 0.9987 - val_loss: 0.0726 - val_accuracy: 0.9816\n",
            "Epoch 22/30\n",
            "282/300 [===========================>..] - ETA: 0s - loss: 0.0017 - accuracy: 0.9998\n",
            "Epoch 22: val_loss did not improve from 0.05869\n",
            "300/300 [==============================] - 1s 3ms/step - loss: 0.0017 - accuracy: 0.9998 - val_loss: 0.0746 - val_accuracy: 0.9818\n",
            "Epoch 23/30\n",
            "288/300 [===========================>..] - ETA: 0s - loss: 7.4338e-04 - accuracy: 1.0000\n",
            "Epoch 23: val_loss did not improve from 0.05869\n",
            "300/300 [==============================] - 1s 3ms/step - loss: 7.3600e-04 - accuracy: 1.0000 - val_loss: 0.0713 - val_accuracy: 0.9825\n"
          ]
        }
      ],
      "source": [
        "# 모델의 실행\n",
        "# history = model.fit(# 작성하세요)\n",
        "\n",
        "history = model.fit(X_train, Y_train, validation_data=(X_test, Y_test),\n",
        "                    epochs=30, batch_size=200, \n",
        "                    callbacks=[early_stopping_callback,checkpointer])"
      ]
    },
    {
      "cell_type": "markdown",
      "metadata": {
        "id": "IfAAdgK6X5vF"
      },
      "source": [
        "### Q6.\n",
        "테스트 셋을 사용하여 모델 평가를 진행하세요.\n",
        "\n",
        "\n",
        " (Tip)\n",
        "  model.evaluate()"
      ]
    },
    {
      "cell_type": "code",
      "execution_count": null,
      "metadata": {
        "colab": {
          "base_uri": "https://localhost:8080/",
          "height": 628
        },
        "id": "7ZbJjbbRX5vG",
        "outputId": "34d5a1d8-62f2-40ae-bebb-242ba5ce75d7"
      },
      "outputs": [
        {
          "output_type": "error",
          "ename": "ValueError",
          "evalue": "ignored",
          "traceback": [
            "\u001b[0;31m---------------------------------------------------------------------------\u001b[0m",
            "\u001b[0;31mValueError\u001b[0m                                Traceback (most recent call last)",
            "\u001b[0;32m<ipython-input-24-c0f6537659a8>\u001b[0m in \u001b[0;36m<module>\u001b[0;34m()\u001b[0m\n\u001b[1;32m      1\u001b[0m \u001b[0;31m# 작성하세요\u001b[0m\u001b[0;34m\u001b[0m\u001b[0;34m\u001b[0m\u001b[0;34m\u001b[0m\u001b[0m\n\u001b[0;32m----> 2\u001b[0;31m \u001b[0mmodel\u001b[0m\u001b[0;34m.\u001b[0m\u001b[0mevaluate\u001b[0m\u001b[0;34m(\u001b[0m\u001b[0mX_test\u001b[0m\u001b[0;34m,\u001b[0m \u001b[0mY_test\u001b[0m\u001b[0;34m)\u001b[0m\u001b[0;34m[\u001b[0m\u001b[0;36m1\u001b[0m\u001b[0;34m]\u001b[0m\u001b[0;34m\u001b[0m\u001b[0;34m\u001b[0m\u001b[0m\n\u001b[0m",
            "\u001b[0;32m/usr/local/lib/python3.7/dist-packages/keras/utils/traceback_utils.py\u001b[0m in \u001b[0;36merror_handler\u001b[0;34m(*args, **kwargs)\u001b[0m\n\u001b[1;32m     65\u001b[0m     \u001b[0;32mexcept\u001b[0m \u001b[0mException\u001b[0m \u001b[0;32mas\u001b[0m \u001b[0me\u001b[0m\u001b[0;34m:\u001b[0m  \u001b[0;31m# pylint: disable=broad-except\u001b[0m\u001b[0;34m\u001b[0m\u001b[0;34m\u001b[0m\u001b[0m\n\u001b[1;32m     66\u001b[0m       \u001b[0mfiltered_tb\u001b[0m \u001b[0;34m=\u001b[0m \u001b[0m_process_traceback_frames\u001b[0m\u001b[0;34m(\u001b[0m\u001b[0me\u001b[0m\u001b[0;34m.\u001b[0m\u001b[0m__traceback__\u001b[0m\u001b[0;34m)\u001b[0m\u001b[0;34m\u001b[0m\u001b[0;34m\u001b[0m\u001b[0m\n\u001b[0;32m---> 67\u001b[0;31m       \u001b[0;32mraise\u001b[0m \u001b[0me\u001b[0m\u001b[0;34m.\u001b[0m\u001b[0mwith_traceback\u001b[0m\u001b[0;34m(\u001b[0m\u001b[0mfiltered_tb\u001b[0m\u001b[0;34m)\u001b[0m \u001b[0;32mfrom\u001b[0m \u001b[0;32mNone\u001b[0m\u001b[0;34m\u001b[0m\u001b[0;34m\u001b[0m\u001b[0m\n\u001b[0m\u001b[1;32m     68\u001b[0m     \u001b[0;32mfinally\u001b[0m\u001b[0;34m:\u001b[0m\u001b[0;34m\u001b[0m\u001b[0;34m\u001b[0m\u001b[0m\n\u001b[1;32m     69\u001b[0m       \u001b[0;32mdel\u001b[0m \u001b[0mfiltered_tb\u001b[0m\u001b[0;34m\u001b[0m\u001b[0;34m\u001b[0m\u001b[0m\n",
            "\u001b[0;32m/usr/local/lib/python3.7/dist-packages/tensorflow/python/framework/func_graph.py\u001b[0m in \u001b[0;36mautograph_handler\u001b[0;34m(*args, **kwargs)\u001b[0m\n\u001b[1;32m   1145\u001b[0m           \u001b[0;32mexcept\u001b[0m \u001b[0mException\u001b[0m \u001b[0;32mas\u001b[0m \u001b[0me\u001b[0m\u001b[0;34m:\u001b[0m  \u001b[0;31m# pylint:disable=broad-except\u001b[0m\u001b[0;34m\u001b[0m\u001b[0;34m\u001b[0m\u001b[0m\n\u001b[1;32m   1146\u001b[0m             \u001b[0;32mif\u001b[0m \u001b[0mhasattr\u001b[0m\u001b[0;34m(\u001b[0m\u001b[0me\u001b[0m\u001b[0;34m,\u001b[0m \u001b[0;34m\"ag_error_metadata\"\u001b[0m\u001b[0;34m)\u001b[0m\u001b[0;34m:\u001b[0m\u001b[0;34m\u001b[0m\u001b[0;34m\u001b[0m\u001b[0m\n\u001b[0;32m-> 1147\u001b[0;31m               \u001b[0;32mraise\u001b[0m \u001b[0me\u001b[0m\u001b[0;34m.\u001b[0m\u001b[0mag_error_metadata\u001b[0m\u001b[0;34m.\u001b[0m\u001b[0mto_exception\u001b[0m\u001b[0;34m(\u001b[0m\u001b[0me\u001b[0m\u001b[0;34m)\u001b[0m\u001b[0;34m\u001b[0m\u001b[0;34m\u001b[0m\u001b[0m\n\u001b[0m\u001b[1;32m   1148\u001b[0m             \u001b[0;32melse\u001b[0m\u001b[0;34m:\u001b[0m\u001b[0;34m\u001b[0m\u001b[0;34m\u001b[0m\u001b[0m\n\u001b[1;32m   1149\u001b[0m               \u001b[0;32mraise\u001b[0m\u001b[0;34m\u001b[0m\u001b[0;34m\u001b[0m\u001b[0m\n",
            "\u001b[0;31mValueError\u001b[0m: in user code:\n\n    File \"/usr/local/lib/python3.7/dist-packages/keras/engine/training.py\", line 1525, in test_function  *\n        return step_function(self, iterator)\n    File \"/usr/local/lib/python3.7/dist-packages/keras/engine/training.py\", line 1514, in step_function  **\n        outputs = model.distribute_strategy.run(run_step, args=(data,))\n    File \"/usr/local/lib/python3.7/dist-packages/keras/engine/training.py\", line 1507, in run_step  **\n        outputs = model.test_step(data)\n    File \"/usr/local/lib/python3.7/dist-packages/keras/engine/training.py\", line 1471, in test_step\n        y_pred = self(x, training=False)\n    File \"/usr/local/lib/python3.7/dist-packages/keras/utils/traceback_utils.py\", line 67, in error_handler\n        raise e.with_traceback(filtered_tb) from None\n    File \"/usr/local/lib/python3.7/dist-packages/keras/engine/input_spec.py\", line 264, in assert_input_compatibility\n        raise ValueError(f'Input {input_index} of layer \"{layer_name}\" is '\n\n    ValueError: Input 0 of layer \"sequential_2\" is incompatible with the layer: expected shape=(None, 28, 28, 1), found shape=(None, 784)\n"
          ]
        }
      ],
      "source": [
        "# 작성하세요\n",
        "model.evaluate(X_test, Y_test)#[1]"
      ]
    },
    {
      "cell_type": "markdown",
      "metadata": {
        "id": "uXXb1d-HX5vH"
      },
      "source": [
        "# CNN"
      ]
    },
    {
      "cell_type": "code",
      "execution_count": null,
      "metadata": {
        "id": "F-GPhxJU_qd4"
      },
      "outputs": [],
      "source": [
        "from keras.datasets import mnist\n",
        "from keras.utils import np_utils\n",
        "from keras.models import Sequential\n",
        "from keras.layers import Dense, Dropout, Flatten, Conv2D, MaxPooling2D\n",
        "from keras.callbacks import ModelCheckpoint,EarlyStopping\n",
        "\n",
        "import matplotlib.pyplot as plt\n",
        "import numpy\n",
        "import os\n",
        "import tensorflow as tf\n",
        "\n",
        "# seed 값 설정\n",
        "seed = 0\n",
        "numpy.random.seed(seed)\n",
        "tf.random.set_seed(3)\n",
        "\n",
        "# 데이터 불러오기\n",
        "(X_train, Y_train), (X_test, Y_test) = mnist.load_data()"
      ]
    },
    {
      "cell_type": "markdown",
      "metadata": {
        "id": "xWy78yF6X5vI"
      },
      "source": [
        "### Q7. \n",
        "\n",
        "CNN 학습을 위해 2차원 입력데이터를 설정하고 [0,1] 범위를 갖도록 스케일링을 수행하세요"
      ]
    },
    {
      "cell_type": "code",
      "source": [
        "X_train.shape"
      ],
      "metadata": {
        "colab": {
          "base_uri": "https://localhost:8080/"
        },
        "id": "gDDkT0P0gyLj",
        "outputId": "47e41fc2-090f-4357-8a1d-1a1d9dbc80b0"
      },
      "execution_count": null,
      "outputs": [
        {
          "output_type": "execute_result",
          "data": {
            "text/plain": [
              "(60000, 28, 28)"
            ]
          },
          "metadata": {},
          "execution_count": 26
        }
      ]
    },
    {
      "cell_type": "code",
      "execution_count": null,
      "metadata": {
        "id": "QwTHttxPX5vJ"
      },
      "outputs": [],
      "source": [
        "# X_train = # 작성하세요\n",
        "# X_test = # 작성하세요\n",
        "X_train = X_train.reshape(X_train.shape[0], X_train.shape[1], X_train.shape[2], 1).astype('float32') / 255\n",
        "X_test = X_test.reshape(X_test.shape[0], 28, 28, 1).astype('float32') / 255"
      ]
    },
    {
      "cell_type": "markdown",
      "metadata": {
        "id": "6nAzKNOFX5vJ"
      },
      "source": [
        "### Q8.\n",
        "CNN 학습을 위해 출력 데이터를 설정하고, 원핫인코딩을 수행하세요."
      ]
    },
    {
      "cell_type": "code",
      "execution_count": null,
      "metadata": {
        "id": "bzDu--2_X5vK"
      },
      "outputs": [],
      "source": [
        "# Y_train = # 작성하세요\n",
        "# Y_test = # 작성하세요\n",
        "Y_train = np_utils.to_categorical(Y_train)\n",
        "Y_test = np_utils.to_categorical(Y_test)"
      ]
    },
    {
      "cell_type": "markdown",
      "metadata": {
        "id": "abbkf9FhX5vL"
      },
      "source": [
        "### Q9.\n",
        "다음과 같이 CNN을 설계하세요.\n",
        "\n",
        "|       | Stage1           | Stage1 | Stage2           | Stage2 | Stage3    | Stage4      |\n",
        "| ----- | ---------------- | ------ | ---------------- | ------ | --------- | ----------- |\n",
        "| Layer | Conv             | Pool   | Conv             | Pool   | FC        | Output      |\n",
        "|       | (5,20)/1,0, RELU | 2/2,0  | (5,50)/1,0, RELU | 2/2,0  | 500, ReLU | 10, softmax |\n",
        "\n",
        "\n",
        "(5,20)/1,0\n",
        "- 5: kernel size\n",
        "- 20: kernel 개수\n",
        "- 1:  stride\n",
        "- 0 : padding"
      ]
    },
    {
      "cell_type": "code",
      "execution_count": null,
      "metadata": {
        "id": "wuKvk1PcX5vL"
      },
      "outputs": [],
      "source": [
        "# 컨볼루션 신경망의 설정\n",
        "model = Sequential()\n",
        "# Stage1\n",
        "model.add(Conv2D(20, kernel_size=(5, 5), strides=(1, 1),input_shape=(28, 28, 1), activation='relu'))\n",
        "model.add(MaxPooling2D(pool_size=(2, 2), strides= (2, 2)))\n",
        "# Stage2\n",
        "model.add(Conv2D(50, kernel_size=(5, 5), strides=(1, 1), activation='relu'))\n",
        "model.add(MaxPooling2D(pool_size=(2, 2), strides= (2, 2)))\n",
        "# Stage3\n",
        "model.add(Flatten())\n",
        "model.add(Dense(500,  activation='relu'))\n",
        "# Stage4\n",
        "model.add(Dense(10, activation='softmax'))"
      ]
    },
    {
      "cell_type": "markdown",
      "metadata": {
        "id": "sXvyw52qX5vM"
      },
      "source": [
        "### Q10. \n",
        "모델 실행 환경을 설정하세요.\n",
        " (TIp) model.compile()"
      ]
    },
    {
      "cell_type": "code",
      "execution_count": null,
      "metadata": {
        "id": "a39iD_SrX5vN"
      },
      "outputs": [],
      "source": [
        "# 작성하세요\n",
        "model.compile(loss='categorical_crossentropy',\n",
        "              optimizer='adam',\n",
        "              metrics=['accuracy'])"
      ]
    },
    {
      "cell_type": "code",
      "execution_count": null,
      "metadata": {
        "id": "RfnpbSV-X5vN",
        "colab": {
          "base_uri": "https://localhost:8080/",
          "height": 1000
        },
        "outputId": "05e9b0d9-c5d9-43b2-f62b-b89c9f75b7ed"
      },
      "outputs": [
        {
          "output_type": "stream",
          "name": "stdout",
          "text": [
            "\n",
            "Epoch 1: val_loss improved from inf to 0.05427, saving model to ./model/01-0.0543.hdf5\n",
            "\n",
            "Epoch 2: val_loss improved from 0.05427 to 0.03596, saving model to ./model/02-0.0360.hdf5\n",
            "\n",
            "Epoch 3: val_loss did not improve from 0.03596\n",
            "\n",
            "Epoch 4: val_loss improved from 0.03596 to 0.03256, saving model to ./model/04-0.0326.hdf5\n",
            "\n",
            "Epoch 5: val_loss improved from 0.03256 to 0.03142, saving model to ./model/05-0.0314.hdf5\n",
            "\n",
            "Epoch 6: val_loss improved from 0.03142 to 0.02786, saving model to ./model/06-0.0279.hdf5\n",
            "\n",
            "Epoch 7: val_loss did not improve from 0.02786\n",
            "\n",
            "Epoch 8: val_loss did not improve from 0.02786\n",
            "\n",
            "Epoch 9: val_loss improved from 0.02786 to 0.02728, saving model to ./model/09-0.0273.hdf5\n",
            "\n",
            "Epoch 10: val_loss did not improve from 0.02728\n",
            "\n",
            "Epoch 11: val_loss did not improve from 0.02728\n",
            "\n",
            "Epoch 12: val_loss did not improve from 0.02728\n",
            "\n",
            "Epoch 13: val_loss did not improve from 0.02728\n",
            "\n",
            "Epoch 14: val_loss did not improve from 0.02728\n",
            "\n",
            "Epoch 15: val_loss did not improve from 0.02728\n",
            "\n",
            "Epoch 16: val_loss did not improve from 0.02728\n",
            "\n",
            "Epoch 17: val_loss did not improve from 0.02728\n",
            "\n",
            "Epoch 18: val_loss did not improve from 0.02728\n",
            "\n",
            "Epoch 19: val_loss did not improve from 0.02728\n",
            "313/313 [==============================] - 1s 3ms/step - loss: 0.0308 - accuracy: 0.9925\n",
            "\n",
            " Test Accuracy: 0.9925\n"
          ]
        },
        {
          "output_type": "display_data",
          "data": {
            "text/plain": [
              "<Figure size 432x288 with 1 Axes>"
            ],
            "image/png": "[encoded data removed]"
          },
          "metadata": {
            "needs_background": "light"
          }
        }
      ],
      "source": [
        "# 모델 최적화 설정\n",
        "MODEL_DIR = './model/'\n",
        "if not os.path.exists(MODEL_DIR):\n",
        "    os.mkdir(MODEL_DIR)\n",
        "\n",
        "modelpath=\"./model/{epoch:02d}-{val_loss:.4f}.hdf5\"\n",
        "checkpointer = ModelCheckpoint(filepath=modelpath, monitor='val_loss', verbose=1, save_best_only=True)\n",
        "early_stopping_callback = EarlyStopping(monitor='val_loss', patience=10)\n",
        "\n",
        "# 모델의 실행\n",
        "history = model.fit(X_train, Y_train, validation_data=(X_test, Y_test), epochs=30, \\\n",
        "                    batch_size=200, verbose=0, callbacks=[early_stopping_callback,checkpointer])\n",
        "\n",
        "# 테스트 정확도 출력\n",
        "print(\"\\n Test Accuracy: %.4f\" % (model.evaluate(X_test, Y_test)[1]))\n",
        "\n",
        "# 테스트 셋의 오차\n",
        "y_vloss = history.history['val_loss']\n",
        "\n",
        "# 학습셋의 오차\n",
        "y_loss = history.history['loss']\n",
        "\n",
        "# 그래프로 표현\n",
        "x_len = numpy.arange(len(y_loss))\n",
        "plt.plot(x_len, y_vloss, marker='.', c=\"red\", label='Testset_loss')\n",
        "plt.plot(x_len, y_loss, marker='.', c=\"blue\", label='Trainset_loss')\n",
        "\n",
        "# 그래프에 그리드를 주고 레이블을 표시\n",
        "plt.legend(loc='upper right')\n",
        "plt.grid()\n",
        "plt.xlabel('epoch')\n",
        "plt.ylabel('loss')\n",
        "plt.show()"
      ]
    },
    {
      "cell_type": "code",
      "execution_count": null,
      "metadata": {
        "id": "leDgdTxE_qd5"
      },
      "outputs": [],
      "source": []
    }
  ],
  "metadata": {
    "colab": {
      "provenance": [],
      "toc_visible": true,
      "include_colab_link": true
    },
    "kernelspec": {
      "display_name": "Python 3",
      "language": "python",
      "name": "python3"
    },
    "language_info": {
      "codemirror_mode": {
        "name": "ipython",
        "version": 3
      },
      "file_extension": ".py",
      "mimetype": "text/x-python",
      "name": "python",
      "nbconvert_exporter": "python",
      "pygments_lexer": "ipython3",
      "version": "3.8.5"
    },
    "toc": {
      "base_numbering": 1,
      "nav_menu": {},
      "number_sections": false,
      "sideBar": true,
      "skip_h1_title": false,
      "title_cell": "Table of Contents",
      "title_sidebar": "Contents",
      "toc_cell": false,
      "toc_position": {
        "height": "calc(100% - 180px)",
        "left": "10px",
        "top": "150px",
        "width": "303.837px"
      },
      "toc_section_display": true,
      "toc_window_display": true
    },
    "accelerator": "GPU"
  },
  "nbformat": 4,
  "nbformat_minor": 0
}