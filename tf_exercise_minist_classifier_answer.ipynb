{
  "cells": [
    {
      "cell_type": "markdown",
      "metadata": {
        "id": "view-in-github",
        "colab_type": "text"
      },
      "source": [
        "<a href=\"https://colab.research.google.com/github/zzhining/deeplearing_basic/blob/main/tf_exercise_minist_classifier_answer.ipynb\" target=\"_parent\"><img src=\"https://colab.research.google.com/assets/colab-badge.svg\" alt=\"Open In Colab\"/></a>"
      ]
    },
    {
      "cell_type": "markdown",
      "metadata": {
        "id": "2qh3qHQNX5uc"
      },
      "source": [
        "# Basic 신경망"
      ]
    },
    {
      "cell_type": "code",
      "execution_count": null,
      "metadata": {
        "id": "916sv1eP_qd2"
      },
      "outputs": [],
      "source": [
        "from keras.datasets import mnist\n",
        "from keras.utils import to_categorical\n",
        "from keras.models import Sequential\n",
        "from keras.layers import Dense\n",
        "from keras.callbacks import ModelCheckpoint,EarlyStopping\n",
        "\n",
        "import matplotlib.pyplot as plt\n",
        "import numpy\n",
        "import os\n",
        "import tensorflow as tf\n",
        "\n",
        "# seed 값 설정\n",
        "seed = 0\n",
        "numpy.random.seed(seed)\n",
        "tf.random.set_seed(3)\n",
        "\n",
        "# MNIST 데이터 불러오기\n",
        "(X_train, Y_train), (X_test, Y_test) = mnist.load_data()"
      ]
    },
    {
      "cell_type": "markdown",
      "metadata": {
        "id": "Ybze6UZ6uwoj"
      },
      "source": [
        "### Q1.\n",
        "\n",
        "2D 이미지를 1D 형태로 변환하여 입력하려고 합니다. 그리고 0 ~ 1 사이의 값을 갖도록 스케일을 조절하려고 합니다.\n",
        "\n",
        "X_train과 X_test 값을 올바르게 설정하세요.\n",
        "\n",
        "\n",
        " (Tip)\n",
        "  reshape, astype 사용\n"
      ]
    },
    {
      "cell_type": "code",
      "source": [
        "X_train.shape[1] * X_train.shape[2]"
      ],
      "metadata": {
        "id": "0KMdbPq8fufr"
      },
      "execution_count": null,
      "outputs": []
    },
    {
      "cell_type": "code",
      "execution_count": null,
      "metadata": {
        "id": "A2duLKGuutMD"
      },
      "outputs": [],
      "source": [
        "# X_train = # 작성하세요\n",
        "# X_test = # 작성하세요\n",
        "\n",
        "X_train = X_train.reshape(X_train.shape[0], 784).astype('float32') / 255\n",
        "X_test = X_test.reshape(X_test.shape[0], 784).astype('float32') / 255\n"
      ]
    },
    {
      "cell_type": "code",
      "source": [
        "X_train.shape"
      ],
      "metadata": {
        "id": "aNyAVAVJgEch"
      },
      "execution_count": null,
      "outputs": []
    },
    {
      "cell_type": "markdown",
      "metadata": {
        "id": "myPGm53tX5u3"
      },
      "source": [
        "### Q2.\n",
        "Y_train과 Y_test를 원핫인코딩을 사용하여 설정하세요.\n",
        " (Tip)\n",
        "  to_categorical()"
      ]
    },
    {
      "cell_type": "code",
      "execution_count": null,
      "metadata": {
        "id": "yuAcLWv-vZne"
      },
      "outputs": [],
      "source": [
        "# Y_train = # 작성하세요\n",
        "# Y_test = # 작성하세요\n",
        "Y_train = to_categorical(Y_train, num_classes=10)\n",
        "Y_test = to_categorical(Y_test, num_classes=10)"
      ]
    },
    {
      "cell_type": "markdown",
      "metadata": {
        "id": "EibUBnFPX5u7"
      },
      "source": [
        "### Q3.\n",
        "하나의 은닉층(노드 수는 512개)을 갖는 인공신경망을 설계하세요.\n",
        " (Tip)\n",
        "  model.add()\n",
        "  Dense()"
      ]
    },
    {
      "cell_type": "code",
      "execution_count": null,
      "metadata": {
        "id": "U0I7GkcJX5u9"
      },
      "outputs": [],
      "source": [
        "# 모델 프레임 설정\n",
        "model = Sequential()\n",
        "# 작성하세요\n",
        "model.add(Dense(512, input_dim=784, activation='relu'))\n",
        "model.add(Dense(10, activation='softmax'))"
      ]
    },
    {
      "cell_type": "markdown",
      "metadata": {
        "id": "oUjGVeyZX5u-"
      },
      "source": [
        "### Q4.\n",
        "모델 실행 환경을 설정하세요.\n",
        " (TIp) model.compile()"
      ]
    },
    {
      "cell_type": "code",
      "execution_count": null,
      "metadata": {
        "id": "ZBXmpQtaX5vA"
      },
      "outputs": [],
      "source": [
        "# 작성하세요\n",
        "model.compile(loss='categorical_crossentropy',\n",
        "              optimizer='adam',\n",
        "              metrics=['accuracy'])"
      ]
    },
    {
      "cell_type": "code",
      "execution_count": null,
      "metadata": {
        "id": "_9YixRNHX5vC"
      },
      "outputs": [],
      "source": [
        "# 모델 최적화 설정\n",
        "MODEL_DIR = './model/'\n",
        "if not os.path.exists(MODEL_DIR):\n",
        "    os.mkdir(MODEL_DIR)\n",
        "\n",
        "modelpath=\"./model/{epoch:02d}-{val_loss:.4f}.keras\"\n",
        "checkpointer = ModelCheckpoint(filepath=modelpath, monitor='val_loss', verbose=1, save_best_only=True)\n",
        "early_stopping_callback = EarlyStopping(monitor='val_loss', patience=10)"
      ]
    },
    {
      "cell_type": "markdown",
      "metadata": {
        "id": "TUKP9655X5vD"
      },
      "source": [
        "### Q5.\n",
        "모델 학습을 수행하세요.\n",
        "- 검증용 데이터는 Validation 데이터로 설정\n",
        "- epochs 은 30, batch_size는 200, callback 설정"
      ]
    },
    {
      "cell_type": "code",
      "execution_count": null,
      "metadata": {
        "id": "rVI0ySU7X5vE"
      },
      "outputs": [],
      "source": [
        "# 모델의 실행\n",
        "# history = model.fit(# 작성하세요)\n",
        "\n",
        "history = model.fit(X_train, Y_train, validation_data=(X_test, Y_test),\n",
        "                    epochs=30, batch_size=200,\n",
        "                    callbacks=[early_stopping_callback,checkpointer])"
      ]
    },
    {
      "cell_type": "markdown",
      "metadata": {
        "id": "IfAAdgK6X5vF"
      },
      "source": [
        "### Q6.\n",
        "테스트 셋을 사용하여 모델 평가를 진행하세요.\n",
        "\n",
        "\n",
        " (Tip)\n",
        "  model.evaluate()"
      ]
    },
    {
      "cell_type": "code",
      "execution_count": null,
      "metadata": {
        "id": "7ZbJjbbRX5vG"
      },
      "outputs": [],
      "source": [
        "# 작성하세요\n",
        "model.evaluate(X_test, Y_test)#[1]"
      ]
    },
    {
      "cell_type": "markdown",
      "metadata": {
        "id": "uXXb1d-HX5vH"
      },
      "source": [
        "# CNN"
      ]
    },
    {
      "cell_type": "code",
      "execution_count": null,
      "metadata": {
        "id": "F-GPhxJU_qd4"
      },
      "outputs": [],
      "source": [
        "from keras.datasets import mnist\n",
        "from keras.utils import to_categorical\n",
        "from keras.models import Sequential\n",
        "from keras.layers import Dense, Dropout, Flatten, Conv2D, MaxPooling2D\n",
        "from keras.callbacks import ModelCheckpoint,EarlyStopping\n",
        "\n",
        "import matplotlib.pyplot as plt\n",
        "import numpy\n",
        "import os\n",
        "import tensorflow as tf\n",
        "\n",
        "# seed 값 설정\n",
        "seed = 0\n",
        "numpy.random.seed(seed)\n",
        "tf.random.set_seed(3)\n",
        "\n",
        "# 데이터 불러오기\n",
        "(X_train, Y_train), (X_test, Y_test) = mnist.load_data()"
      ]
    },
    {
      "cell_type": "markdown",
      "metadata": {
        "id": "xWy78yF6X5vI"
      },
      "source": [
        "### Q7.\n",
        "\n",
        "CNN 학습을 위해 2차원 입력데이터를 설정하고 [0,1] 범위를 갖도록 스케일링을 수행하세요"
      ]
    },
    {
      "cell_type": "code",
      "source": [
        "X_train.shape"
      ],
      "metadata": {
        "id": "gDDkT0P0gyLj"
      },
      "execution_count": null,
      "outputs": []
    },
    {
      "cell_type": "code",
      "execution_count": null,
      "metadata": {
        "id": "QwTHttxPX5vJ"
      },
      "outputs": [],
      "source": [
        "# X_train = # 작성하세요\n",
        "# X_test = # 작성하세요\n",
        "X_train = X_train.reshape(X_train.shape[0], X_train.shape[1], X_train.shape[2], 1).astype('float32') / 255\n",
        "X_test = X_test.reshape(X_test.shape[0], 28, 28, 1).astype('float32') / 255"
      ]
    },
    {
      "cell_type": "markdown",
      "metadata": {
        "id": "6nAzKNOFX5vJ"
      },
      "source": [
        "### Q8.\n",
        "CNN 학습을 위해 출력 데이터를 설정하고, 원핫인코딩을 수행하세요."
      ]
    },
    {
      "cell_type": "code",
      "execution_count": null,
      "metadata": {
        "id": "bzDu--2_X5vK"
      },
      "outputs": [],
      "source": [
        "# Y_train = # 작성하세요\n",
        "# Y_test = # 작성하세요\n",
        "Y_train = to_categorical(Y_train)\n",
        "Y_test = to_categorical(Y_test)"
      ]
    },
    {
      "cell_type": "markdown",
      "metadata": {
        "id": "abbkf9FhX5vL"
      },
      "source": [
        "### Q9.\n",
        "다음과 같이 CNN을 설계하세요.\n",
        "\n",
        "|       | Stage1           | Stage1 | Stage2           | Stage2 | Stage3    | Stage4      |\n",
        "| ----- | ---------------- | ------ | ---------------- | ------ | --------- | ----------- |\n",
        "| Layer | Conv             | Pool   | Conv             | Pool   | FC        | Output      |\n",
        "|       | (5,20)/1,0, RELU | 2/2,0  | (5,50)/1,0, RELU | 2/2,0  | 500, ReLU | 10, softmax |\n",
        "\n",
        "\n",
        "(5,20)/1,0\n",
        "- 5: kernel size\n",
        "- 20: kernel 개수\n",
        "- 1:  stride\n",
        "- 0 : padding"
      ]
    },
    {
      "cell_type": "code",
      "execution_count": null,
      "metadata": {
        "id": "wuKvk1PcX5vL"
      },
      "outputs": [],
      "source": [
        "# 컨볼루션 신경망의 설정\n",
        "model = Sequential()\n",
        "# Stage1\n",
        "model.add(Conv2D(20, kernel_size=(5, 5), strides=(1, 1),input_shape=(28, 28, 1), activation='relu'))\n",
        "model.add(MaxPooling2D(pool_size=(2, 2), strides= (2, 2)))\n",
        "# Stage2\n",
        "model.add(Conv2D(50, kernel_size=(5, 5), strides=(1, 1), activation='relu'))\n",
        "model.add(MaxPooling2D(pool_size=(2, 2), strides= (2, 2)))\n",
        "# Stage3\n",
        "model.add(Flatten())\n",
        "model.add(Dense(500,  activation='relu'))\n",
        "# Stage4\n",
        "model.add(Dense(10, activation='softmax'))"
      ]
    },
    {
      "cell_type": "markdown",
      "metadata": {
        "id": "sXvyw52qX5vM"
      },
      "source": [
        "### Q10.\n",
        "모델 실행 환경을 설정하세요.\n",
        " (TIp) model.compile()"
      ]
    },
    {
      "cell_type": "code",
      "execution_count": null,
      "metadata": {
        "id": "a39iD_SrX5vN"
      },
      "outputs": [],
      "source": [
        "# 작성하세요\n",
        "model.compile(loss='categorical_crossentropy',\n",
        "              optimizer='adam',\n",
        "              metrics=['accuracy'])"
      ]
    },
    {
      "cell_type": "code",
      "execution_count": null,
      "metadata": {
        "id": "RfnpbSV-X5vN"
      },
      "outputs": [],
      "source": [
        "# 모델 최적화 설정\n",
        "MODEL_DIR = './model/'\n",
        "if not os.path.exists(MODEL_DIR):\n",
        "    os.mkdir(MODEL_DIR)\n",
        "\n",
        "modelpath=\"./model/{epoch:02d}-{val_loss:.4f}.keras\"\n",
        "checkpointer = ModelCheckpoint(filepath=modelpath, monitor='val_loss', verbose=1, save_best_only=True)\n",
        "early_stopping_callback = EarlyStopping(monitor='val_loss', patience=10)\n",
        "\n",
        "# 모델의 실행\n",
        "history = model.fit(X_train, Y_train, validation_data=(X_test, Y_test), epochs=30, \\\n",
        "                    batch_size=200, verbose=0, callbacks=[early_stopping_callback,checkpointer])\n",
        "\n",
        "# 테스트 정확도 출력\n",
        "print(\"\\n Test Accuracy: %.4f\" % (model.evaluate(X_test, Y_test)[1]))\n",
        "\n",
        "# 테스트 셋의 오차\n",
        "y_vloss = history.history['val_loss']\n",
        "\n",
        "# 학습셋의 오차\n",
        "y_loss = history.history['loss']\n",
        "\n",
        "# 그래프로 표현\n",
        "x_len = numpy.arange(len(y_loss))\n",
        "plt.plot(x_len, y_vloss, marker='.', c=\"red\", label='Testset_loss')\n",
        "plt.plot(x_len, y_loss, marker='.', c=\"blue\", label='Trainset_loss')\n",
        "\n",
        "# 그래프에 그리드를 주고 레이블을 표시\n",
        "plt.legend(loc='upper right')\n",
        "plt.grid()\n",
        "plt.xlabel('epoch')\n",
        "plt.ylabel('loss')\n",
        "plt.show()"
      ]
    },
    {
      "cell_type": "code",
      "execution_count": null,
      "metadata": {
        "id": "leDgdTxE_qd5"
      },
      "outputs": [],
      "source": []
    }
  ],
  "metadata": {
    "colab": {
      "provenance": [],
      "toc_visible": true,
      "include_colab_link": true
    },
    "kernelspec": {
      "display_name": "Python 3",
      "language": "python",
      "name": "python3"
    },
    "language_info": {
      "codemirror_mode": {
        "name": "ipython",
        "version": 3
      },
      "file_extension": ".py",
      "mimetype": "text/x-python",
      "name": "python",
      "nbconvert_exporter": "python",
      "pygments_lexer": "ipython3",
      "version": "3.8.5"
    },
    "toc": {
      "base_numbering": 1,
      "nav_menu": {},
      "number_sections": false,
      "sideBar": true,
      "skip_h1_title": false,
      "title_cell": "Table of Contents",
      "title_sidebar": "Contents",
      "toc_cell": false,
      "toc_position": {
        "height": "calc(100% - 180px)",
        "left": "10px",
        "top": "150px",
        "width": "303.837px"
      },
      "toc_section_display": true,
      "toc_window_display": true
    },
    "accelerator": "GPU"
  },
  "nbformat": 4,
  "nbformat_minor": 0
}